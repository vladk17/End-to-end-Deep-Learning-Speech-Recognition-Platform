{
 "cells": [
  {
   "cell_type": "markdown",
   "metadata": {},
   "source": [
    "# The effect of a Language Model\n",
    "\n",
    "Up to now, the transcript the ASR system generates is through an “end-to-end” [CTC-based network]( https://www.cs.toronto.edu/~graves/icml_2006.pdf) which matches audio and text without additional alignment information. However, ambiguities in the transcription, for example when collapsing repeated characters and removing blanks, can exist as the CTC-based network has little prior linguistic knowledge. This is where a language model comes in, as it can help solve those decoding ambiguities.\n",
    "\n",
    "Specifically, the decoder output or transcript, when introducing a language model, is dependent on both the CTC network (softmax) output and the language model prediction. The language model we use is based on prefix beam search [KenLM]( https://github.com/kpu/kenlm) which imposes a language model constraint on the new predicted character based on previous (most probable) prefixes. To learn more see [First-Pass Large Vocabulary Continuous Speech Recognition using Bi-Directional Recurrent DNNs](https://arxiv.org/pdf/1408.2873.pdf).\n",
    "\n",
    "In this notebook we evaluate the effect in performance of `adding a Language Model `. The model we use and train is the [Baidu’s CTC decoder with N-Gram LM implementation](https://github.com/PaddlePaddle/DeepSpeech).\n",
    "\n",
    "**Note**: If you wish to use a language model in your ASR pipeline, you need to install the necessary software. Please refer to the Dockerfile in `/tmp/nemo_asr_app/Dockerfile` and re-build the container."
   ]
  },
  {
   "cell_type": "code",
   "execution_count": 1,
   "metadata": {},
   "outputs": [],
   "source": [
    "# required imports\n",
    "%load_ext autoreload\n",
    "%autoreload 2\n",
    "import os\n",
    "import pandas as pd\n",
    "from easydict import EasyDict as edict\n",
    "\n",
    "from tools.System.config import cfg\n",
    "from tools.System.reader import Reader\n",
    "from tools.misc import parse_manifest_wer, barplot_manifest, get_transcript, get_gtruth"
   ]
  },
  {
   "cell_type": "markdown",
   "metadata": {},
   "source": [
    "# 1. Load previous project\n",
    "In Step 1 - Acoustic Model workflow, we created a project that keeps track of the datasets, configurations and models created. \n",
    "Everything related to a project is saved in disc in a manifest that can be access through its `project_id`.\n",
    "\n",
    "At the start of the project, the manifest is pre-populated with the baseline pretrained models. For acoustic model we use a pretrained model on LibriSpeech with a greedy decoder and for language model we use a Baidu's CTC decoder model. Both pre-trained models were built or downloaded in `Step 0` and thus exist in the `example_data` folder.\n",
    "\n",
    "Next, we load the project we created when doing the acoustic model workflow. "
   ]
  },
  {
   "cell_type": "code",
   "execution_count": 2,
   "metadata": {},
   "outputs": [
    {
     "name": "stdout",
     "output_type": "stream",
     "text": [
      "Manifest restored from /raid/datasets/asr/data/manifests/WSJ_manifest.json \n",
      "\n"
     ]
    }
   ],
   "source": [
    "project_id = 'WSJ'\n",
    "project = Reader.load_manifest(project_id, Reader)\n",
    "# project.manifest.lm"
   ]
  },
  {
   "cell_type": "markdown",
   "metadata": {},
   "source": [
    "#  2. Training a Language Model on Domain Data\n",
    "Next, we train a language model with our own data.\n",
    "\n",
    "The steps are: 1. Add pre-processed dataset to project, 2. Edit training parameters 3. Generate training command and perform training.\n",
    "\n",
    "Note, if the WSJ is not available to you, you can download the trained WSJ language model (used to generate the results of this notebook) from NGC in this [link](https://ngc.nvidia.com/models/nvidia:wsj_lm_decoder). Then you must place the binary file in the following path: `[data_dir]/models/language_models/`[WS_lm.binary]"
   ]
  },
  {
   "cell_type": "markdown",
   "metadata": {},
   "source": [
    "## 2.1 Add LM Dataset to project\n",
    "To train a language model you require the pre-processed training text as a single column (per sentence) saved as a .txt file."
   ]
  },
  {
   "cell_type": "code",
   "execution_count": 3,
   "metadata": {},
   "outputs": [
    {
     "data": {
      "text/plain": [
       "{'train_dataset_name': 'LM-WSJ',\n",
       " 'train_dataset': '/raid/datasets/asr/data/example_data/wsj/lm/wsj-lm-data.txt',\n",
       " 'ngram': 6,\n",
       " 'finetuned_model': '/raid/datasets/asr/data/models/language_models/WSJ_lm.binary',\n",
       " 'train_cmd': None,\n",
       " 'infer_cmd': None}"
      ]
     },
     "execution_count": 3,
     "metadata": {},
     "output_type": "execute_result"
    }
   ],
   "source": [
    "lm_txt = os.path.join(cfg.DATASET.PATHS.EXAMPLE_DATA,'wsj','lm',\"wsj-lm-data.txt\")\n",
    "\n",
    "project.add_dataset(lm_txt, \"LM-WSJ\", dataset_type=\"lm-train\")\n",
    "project.manifest.lm"
   ]
  },
  {
   "cell_type": "markdown",
   "metadata": {},
   "source": [
    "## 2.2 Edit Training Parameters\n",
    "We first edit language model training parameters. Here the only parameter to edit is the length of the sequence of words `(N)` used by the N-gram model."
   ]
  },
  {
   "cell_type": "code",
   "execution_count": 4,
   "metadata": {},
   "outputs": [
    {
     "data": {
      "text/plain": [
       "{'train_dataset_name': 'LM-WSJ',\n",
       " 'train_dataset': '/raid/datasets/asr/data/example_data/wsj/lm/wsj-lm-data.txt',\n",
       " 'ngram': 6,\n",
       " 'finetuned_model': '/raid/datasets/asr/data/models/language_models/WSJ_lm.binary',\n",
       " 'train_cmd': None,\n",
       " 'infer_cmd': None}"
      ]
     },
     "execution_count": 4,
     "metadata": {},
     "output_type": "execute_result"
    }
   ],
   "source": [
    "# edit parameters\n",
    "project.set_n_gram(6) # number of words for N-Gram\n",
    "project.manifest.lm"
   ]
  },
  {
   "cell_type": "markdown",
   "metadata": {},
   "source": [
    "## 2.3 Training\n",
    "The following function will generate the language model training command for our dataset. You can run this command directly in this notebook or in the container terminal."
   ]
  },
  {
   "cell_type": "code",
   "execution_count": 5,
   "metadata": {},
   "outputs": [
    {
     "name": "stdout",
     "output_type": "stream",
     "text": [
      "! python /home/adrianaf/projects/asr_system/nemo_asr_app/tools/NeMo/build_lm.py /raid/datasets/asr/data/example_data/wsj/lm/wsj-lm-data.txt --n=6 --project_id=WSJ\n"
     ]
    }
   ],
   "source": [
    "lm_train_cmd = project.get_lm_train_cmd()\n",
    "print (\"! \" + lm_train_cmd)"
   ]
  },
  {
   "cell_type": "code",
   "execution_count": 6,
   "metadata": {},
   "outputs": [],
   "source": [
    "# clean log directory to re-run the training \n",
    "#project.clean_lm_logdir()"
   ]
  },
  {
   "cell_type": "markdown",
   "metadata": {},
   "source": [
    "Copy (select cmd + shift RMB + copy) the command generated and paste it below to run training inside the notebook, you can also run it inside the container's terminal."
   ]
  },
  {
   "cell_type": "code",
   "execution_count": 7,
   "metadata": {},
   "outputs": [],
   "source": [
    "# ! python /home/adrianaf/projects/asr_system/nemo_asr_app/tools/NeMo/build_lm.py /raid/datasets/asr/data/example_data/wsj/lm/wsj-lm-data.txt --n=6 --project_id=WSJ"
   ]
  },
  {
   "cell_type": "markdown",
   "metadata": {},
   "source": [
    "# 3. Inference with Pre-trained and Fine-tuned Models\n",
    "Next, we perform inference with both the pre-trained and fine-tuned models.\n",
    "\n",
    "The steps are: \n",
    "1. Add pre-processed evaluation datasets to project\n",
    "2. Inference using: Finetuned AM with Pre-trained LM model\n",
    "3. Inference using: Finetuned AM with Fine-tuned LM model"
   ]
  },
  {
   "cell_type": "markdown",
   "metadata": {},
   "source": [
    "## 3.1. Add Inference Evaluation Datasets to the Project \n",
    "To perform inference you require a preprocessed `json` dataset, with the columns: `audio_filepath`, `duration` and `text`."
   ]
  },
  {
   "cell_type": "code",
   "execution_count": 8,
   "metadata": {},
   "outputs": [
    {
     "name": "stdout",
     "output_type": "stream",
     "text": [
      "wsj-eval is already included in the eval dataset\n",
      "['wsj-eval']\n",
      "['/raid/datasets/asr/data/example_data/wsj/wsj-eval-92.json']\n"
     ]
    }
   ],
   "source": [
    "# add inference dataset\n",
    "eval_json=os.path.join(cfg.DATASET.PATHS.EXAMPLE_DATA, \"wsj\",\"wsj-eval-92.json\")\n",
    "#eval_json=os.path.join(cfg.DATASET.PATHS.EXAMPLE_DATA, \"wsj\",\"wsj-dev-93.json\")\n",
    "\n",
    "project.add_dataset(eval_json, \"wsj-eval\", dataset_type=\"eval\")\n",
    "\n",
    "# Becuase we already added the evaluation dataset to project when doing the AM workflow we don't need to do it again\n",
    "print(project.manifest.eval_dataset_names)\n",
    "print(project.manifest.eval_datasets)"
   ]
  },
  {
   "cell_type": "markdown",
   "metadata": {},
   "source": [
    "## 3.2 Inference with Pre-trained LM model and Fine-tuned AM model\n",
    "To do inference, we follow 3 steps: 1) Adjust inference parameters. 2) Generate inference command 3) Perform inference"
   ]
  },
  {
   "cell_type": "markdown",
   "metadata": {},
   "source": [
    "### 3.2.1 Modify inference parameters\n",
    "The default inference parameters are specified in the project manifest, inference script and the configuration file. However, you can modify some of these parameters as follows.\n",
    "\n",
    "To see the full list of parameters accessible by the manifest see `project.manifest.inference_params`, to see other parameters look at the NeMo inference script at `/tools/NeMo/jasper_eval.py`.\n",
    "\n",
    "Important Notes:\n",
    "- The parameter `amp_opt_level` set to O1 or above, enables NVIDIA's [Automatic Mixed Precision for Deep Learning](https://developer.nvidia.com/automatic-mixed-precision).\n",
    "\n",
    "- When `lm_path` is set to \"None\", the system will use a `greedy decoder`, and thus the language model parametrs `beam_width`, `alpha`, `beta` will not be used."
   ]
  },
  {
   "cell_type": "code",
   "execution_count": 9,
   "metadata": {},
   "outputs": [
    {
     "data": {
      "text/plain": [
       "{'load_dir': '/home/adrianaf/projects/asr_system/nemo_asr_app/demo/finetuned',\n",
       " 'model_config': '/raid/datasets/asr/data/config_files/WSJ_acoustic_quartznet15x5.yaml',\n",
       " 'batch_size': 32,\n",
       " 'amp_opt_level': 'O0',\n",
       " 'save_results': '/raid/datasets/asr/data/inferences/WSJ',\n",
       " 'lm_path': None,\n",
       " 'beam_width': None,\n",
       " 'alpha': None,\n",
       " 'beta': None}"
      ]
     },
     "execution_count": 9,
     "metadata": {},
     "output_type": "execute_result"
    }
   ],
   "source": [
    "project.manifest.inference_params"
   ]
  },
  {
   "cell_type": "markdown",
   "metadata": {},
   "source": [
    "### Add Language Model Inference Parameters \n",
    "In this section we **must** set the LM parameters to enable inference with the beam-search decoder. \n",
    "\n",
    "When decoding with a language model, we accumulate the log probabilities from an acoustic model (using logits) in different hypotheses/candidates (beams), where a larger `beam_width` accommodates more candidates. Each time we append a space character to some candidate, it means that we finished some word. At that point, the beam's score is updated with the LM score (probability of N previous words - including newly added word). \n",
    "\n",
    "The beam score is calculated as: `beam_score += alpha*LM_score + beta` \n",
    "\n",
    "The parameters to change are:\n",
    "- `lm_path`: Pointing to the `binary` file of the LM model you wish to use. The function project.get_path_to_lm(LM_finetuned=False) will return the path project's pre-trained or fine-tuned models.\n",
    "- `beam_width`: determining how many prefixes (beams) will be selected at each timestep.\n",
    "- `alpha`: the weight of the language model.\n",
    "- `beta`: compensation term or word insertion weight. Required to control length of candidates (balance number of words).\n",
    "\n",
    "#### Alpha and Beta tuning\n",
    "The `/tools/NeMo/jasper_eval.py` script has the ability to sweep `alpha` and `beta` hyperparameters for tuning. To create a grid search across these parameters you need to add a parameter `max` and `step`, for example: `--alpha=1.0 --alpha_max=3.0 --alpha_step=1.0` for alpha and `--beta=0.1 --beta_max=0.4 --beta_step=0.1` for beta."
   ]
  },
  {
   "cell_type": "code",
   "execution_count": 10,
   "metadata": {},
   "outputs": [
    {
     "data": {
      "text/plain": [
       "{'load_dir': '/home/adrianaf/projects/asr_system/nemo_asr_app/demo/finetuned',\n",
       " 'model_config': '/raid/datasets/asr/data/config_files/WSJ_acoustic_quartznet15x5.yaml',\n",
       " 'batch_size': 32,\n",
       " 'amp_opt_level': 'O1',\n",
       " 'save_results': '/raid/datasets/asr/data/inferences/WSJ',\n",
       " 'lm_path': '/raid/datasets/asr/data/example_data/language_model/6-gram-lm.binary',\n",
       " 'beam_width': 200,\n",
       " 'alpha': 3.0,\n",
       " 'beta': 0.1}"
      ]
     },
     "execution_count": 10,
     "metadata": {},
     "output_type": "execute_result"
    }
   ],
   "source": [
    "# add pretrained language model\n",
    "project.manifest.inference_params.lm_path = project.get_path_to_lm(LM_finetuned=False) # pre-trained model (lm)\n",
    "# beam parameters\n",
    "project.manifest.inference_params.beam_width = 200\n",
    "project.manifest.inference_params.alpha = 3.0\n",
    "project.manifest.inference_params.beta = 0.1\n",
    "# other parameters\n",
    "project.manifest.inference_params.batch_size = 32\n",
    "project.manifest.inference_params.amp_opt_level = 'O1'\n",
    "\n",
    "project.save_manifest()\n",
    "project.manifest.inference_params"
   ]
  },
  {
   "cell_type": "markdown",
   "metadata": {},
   "source": [
    "### 3.2.2 Generate Inference Command for Pre-trained LM Model\n",
    "We generate the inference command using the manifest configurations."
   ]
  },
  {
   "cell_type": "code",
   "execution_count": 11,
   "metadata": {},
   "outputs": [
    {
     "name": "stdout",
     "output_type": "stream",
     "text": [
      "! python /home/adrianaf/projects/asr_system/nemo_asr_app/tools/NeMo/jasper_eval.py --load_dir=/home/adrianaf/projects/asr_system/nemo_asr_app/demo/finetuned --model_config=/raid/datasets/asr/data/config_files/WSJ_acoustic_quartznet15x5.yaml --batch_size=32 --amp_opt_level=O1 --save_results=/raid/datasets/asr/data/inferences/WSJ --lm_path=/raid/datasets/asr/data/example_data/language_model/6-gram-lm.binary --beam_width=200 --alpha=3.0 --beta=0.1 --eval_datasets=/raid/datasets/asr/data/example_data/wsj/wsj-eval-92.json --model_id=am-finetuned-WSJ_train_speed--lm-Libri\n"
     ]
    }
   ],
   "source": [
    "# Model Id - We use this to identify the results of this model\n",
    "model_id = \"am-finetuned-WSJ_train_speed--lm-Libri\"\n",
    "\n",
    "# Inference with Pretrained model\n",
    "lm_infer_cmd = project.get_inference_cmd(model_id=model_id)\n",
    "print(\"! \"+ lm_infer_cmd)"
   ]
  },
  {
   "cell_type": "markdown",
   "metadata": {},
   "source": [
    "### 3.2.3 Run Inference with LibriSpeech LM Model\n",
    "To run inference, copy (select cmd + shift RMB + copy) the command generated above and paste below."
   ]
  },
  {
   "cell_type": "code",
   "execution_count": 12,
   "metadata": {},
   "outputs": [
    {
     "name": "stdout",
     "output_type": "stream",
     "text": [
      "/opt/conda/lib/python3.6/site-packages/torchvision/io/_video_opt.py:17: UserWarning: video reader based on ffmpeg c++ ops not available\n",
      "  warnings.warn(\"video reader based on ffmpeg c++ ops not available\")\n",
      "Could not import torchaudio. Some features might not work.\n",
      "2019-12-15 21:20:58,817 - INFO - Dataset loaded with 0.71 hours. Filtered 0.00 hours.\n",
      "2019-12-15 21:20:58,818 - INFO - Evaluating 333 examples\n",
      "2019-12-15 21:20:58,818 - INFO - PADDING: 16\n",
      "2019-12-15 21:20:58,819 - INFO - STFT using conv\n",
      "2019-12-15 21:21:01,042 - INFO - ================================\n",
      "2019-12-15 21:21:01,045 - INFO - Number of parameters in encoder: 18894656\n",
      "2019-12-15 21:21:01,045 - INFO - Number of parameters in decoder: 29725\n",
      "2019-12-15 21:21:01,048 - INFO - Total number of parameters: 18924381\n",
      "2019-12-15 21:21:01,048 - INFO - ================================\n",
      "2019-12-15 21:21:01,055 - INFO - Restoring JasperEncoder from /home/adrianaf/projects/asr_system/nemo_asr_app/demo/finetuned/JasperEncoder-STEP-174000.pt\n",
      "2019-12-15 21:21:01,258 - INFO - Restoring JasperDecoderForCTC from /home/adrianaf/projects/asr_system/nemo_asr_app/demo/finetuned/JasperDecoderForCTC-STEP-174000.pt\n",
      "Selected optimization level O1:  Insert automatic casts around Pytorch functions and Tensor methods.\n",
      "\n",
      "Defaults for this optimization level are:\n",
      "enabled                : True\n",
      "opt_level              : O1\n",
      "cast_model_type        : None\n",
      "patch_torch_functions  : True\n",
      "keep_batchnorm_fp32    : None\n",
      "master_weights         : None\n",
      "loss_scale             : dynamic\n",
      "Processing user overrides (additional kwargs that are not None)...\n",
      "After processing overrides, optimization options are:\n",
      "enabled                : True\n",
      "opt_level              : O1\n",
      "cast_model_type        : None\n",
      "patch_torch_functions  : True\n",
      "keep_batchnorm_fp32    : None\n",
      "master_weights         : None\n",
      "loss_scale             : dynamic\n",
      "2019-12-15 21:21:01,357 - INFO - Evaluating batch 0 out of 11\n",
      "2019-12-15 21:21:03,176 - INFO - Evaluating batch 1 out of 11\n",
      "2019-12-15 21:21:03,476 - INFO - Evaluating batch 2 out of 11\n",
      "2019-12-15 21:21:03,770 - INFO - Evaluating batch 3 out of 11\n",
      "2019-12-15 21:21:04,088 - INFO - Evaluating batch 4 out of 11\n",
      "2019-12-15 21:21:04,413 - INFO - Evaluating batch 5 out of 11\n",
      "2019-12-15 21:21:04,721 - INFO - Evaluating batch 6 out of 11\n",
      "2019-12-15 21:21:05,028 - INFO - Evaluating batch 7 out of 11\n",
      "2019-12-15 21:21:05,349 - INFO - Evaluating batch 8 out of 11\n",
      "2019-12-15 21:21:05,681 - INFO - Evaluating batch 9 out of 11\n",
      "2019-12-15 21:21:05,982 - INFO - Evaluating batch 10 out of 11\n",
      "2019-12-15 21:21:06,322 - INFO - Greedy WER 4.45%\n",
      "2019-12-15 21:21:06,322 - INFO - ================================\n",
      "2019-12-15 21:21:06,322 - INFO - Infering with (alpha, beta): (3.0, 0.1)\n",
      "Selected optimization level O1:  Insert automatic casts around Pytorch functions and Tensor methods.\n",
      "\n",
      "Defaults for this optimization level are:\n",
      "enabled                : True\n",
      "opt_level              : O1\n",
      "cast_model_type        : None\n",
      "patch_torch_functions  : True\n",
      "keep_batchnorm_fp32    : None\n",
      "master_weights         : None\n",
      "loss_scale             : dynamic\n",
      "Processing user overrides (additional kwargs that are not None)...\n",
      "After processing overrides, optimization options are:\n",
      "enabled                : True\n",
      "opt_level              : O1\n",
      "cast_model_type        : None\n",
      "patch_torch_functions  : True\n",
      "keep_batchnorm_fp32    : None\n",
      "master_weights         : None\n",
      "loss_scale             : dynamic\n",
      "2019-12-15 21:21:37,247 - INFO - Beam WER 3.70%\n",
      "2019-12-15 21:21:37,247 - INFO - Beam WER for (alpha, beta)\n",
      "2019-12-15 21:21:37,247 - INFO - ================================\n",
      "2019-12-15 21:21:37,247 - INFO - \n",
      "((3.0, 0.1), 3.7037037037037033)\n",
      "2019-12-15 21:21:37,247 - INFO - ================================\n",
      "2019-12-15 21:21:37,248 - INFO - Best (alpha, beta): (3.0, 0.1), WER: 3.70%\n",
      "2019-12-15 21:21:37,248 - INFO - Saving inference results to /raid/datasets/asr/data/inferences/WSJ/results-lm_grid__wsj-eval-92__am-finetuned-WSJ_train_speed--lm-Libri.json\n"
     ]
    }
   ],
   "source": [
    "! python /home/adrianaf/projects/asr_system/nemo_asr_app/tools/NeMo/jasper_eval.py --load_dir=/home/adrianaf/projects/asr_system/nemo_asr_app/demo/finetuned --model_config=/raid/datasets/asr/data/config_files/WSJ_acoustic_quartznet15x5.yaml --batch_size=32 --amp_opt_level=O1 --save_results=/raid/datasets/asr/data/inferences/WSJ --lm_path=/raid/datasets/asr/data/example_data/language_model/6-gram-lm.binary --beam_width=200 --alpha=3.0 --beta=0.1 --eval_datasets=/raid/datasets/asr/data/example_data/wsj/wsj-eval-92.json --model_id=am-finetuned-WSJ_train_speed--lm-Libri"
   ]
  },
  {
   "cell_type": "markdown",
   "metadata": {},
   "source": [
    "## 3.3 Inference with Fine-tuned model\n",
    "To do inference with our fine-tuned model, we must modify the manifest parameters to point to our fine-tuned model, then follow the same process as before."
   ]
  },
  {
   "cell_type": "markdown",
   "metadata": {},
   "source": [
    "### 3.3.1 Modify inference parameters\n",
    "The default inference parameters are specified in the project manifest, inference script and the configuration file. However, you can modify some of these parameters as follows.\n",
    "\n",
    "To see the full list of parameters accessible by the manifest see `project.manifest.inference_params`, to see other parameters look at the NeMo inference script at `/tools/NeMo/jasper_eval.py`.\n",
    "\n",
    "### Add Language Model Inference Parameters \n",
    "In this section we **need to** set the LM parameters to enable inference with the beam-search decoder, specifically the fine-tuned LM model.\n",
    "\n",
    "The parameters to change are:\n",
    "- `lm_path`: Pointing to the `binary` file of the LM model you wish to use. The function project.get_path_to_lm(LM_finetuned=False) will return the path project's pre-trained or fine-tuned models.\n",
    "- `beam_width`: determining how many prefixes (beams) will be selected at each timestep.\n",
    "- `alpha`: the weight of the language model.\n",
    "- `beta`: compensation term or word insertion weight. Required to control length of candidates (balance number of words).\n",
    "\n",
    "#### Alpha and Beta tuning\n",
    "The `/tools/NeMo/jasper_eval.py` script has the ability to sweep `alpha` and `beta` hyperparameters for tuning. To create a grid search across these parameters you need to add a parameter `max` and `step`, for example: `--alpha=1.0 --alpha_max=3.0 --alpha_step=1.0` for alpha and `--beta=0.1 --beta_max=0.4 --beta_step=0.1` for beta."
   ]
  },
  {
   "cell_type": "code",
   "execution_count": 13,
   "metadata": {},
   "outputs": [
    {
     "data": {
      "text/plain": [
       "'/raid/datasets/asr/data/models/language_models/WSJ_lm.binary'"
      ]
     },
     "execution_count": 13,
     "metadata": {},
     "output_type": "execute_result"
    }
   ],
   "source": [
    "# Path to the fine-tuned lm model\n",
    "project.get_path_to_lm(LM_finetuned=True)"
   ]
  },
  {
   "cell_type": "code",
   "execution_count": 14,
   "metadata": {},
   "outputs": [
    {
     "data": {
      "text/plain": [
       "{'load_dir': '/home/adrianaf/projects/asr_system/nemo_asr_app/demo/finetuned',\n",
       " 'model_config': '/raid/datasets/asr/data/config_files/WSJ_acoustic_quartznet15x5.yaml',\n",
       " 'batch_size': 32,\n",
       " 'amp_opt_level': 'O1',\n",
       " 'save_results': '/raid/datasets/asr/data/inferences/WSJ',\n",
       " 'lm_path': '/raid/datasets/asr/data/models/language_models/WSJ_lm.binary',\n",
       " 'beam_width': 200,\n",
       " 'alpha': 3.0,\n",
       " 'beta': 0.1}"
      ]
     },
     "execution_count": 14,
     "metadata": {},
     "output_type": "execute_result"
    }
   ],
   "source": [
    "# Inference with Fintuned language model\n",
    "project.manifest.inference_params.lm_path = project.get_path_to_lm(LM_finetuned=True)\n",
    "# beam parameters\n",
    "project.manifest.inference_params.beam_width = 200\n",
    "project.manifest.inference_params.alpha = 3.0\n",
    "project.manifest.inference_params.beta = 0.1\n",
    "\n",
    "# other parameters\n",
    "project.manifest.inference_params.batch_size = 32\n",
    "project.manifest.inference_params.amp_opt_level = 'O1'\n",
    "\n",
    "project.save_manifest()\n",
    "project.manifest.inference_params"
   ]
  },
  {
   "cell_type": "markdown",
   "metadata": {},
   "source": [
    "### 3.3.2 Generate Inference Command\n",
    "We generate the inference command using the manifest configurations."
   ]
  },
  {
   "cell_type": "code",
   "execution_count": 15,
   "metadata": {},
   "outputs": [
    {
     "name": "stdout",
     "output_type": "stream",
     "text": [
      "! python /home/adrianaf/projects/asr_system/nemo_asr_app/tools/NeMo/jasper_eval.py --load_dir=/home/adrianaf/projects/asr_system/nemo_asr_app/demo/finetuned --model_config=/raid/datasets/asr/data/config_files/WSJ_acoustic_quartznet15x5.yaml --batch_size=32 --amp_opt_level=O1 --save_results=/raid/datasets/asr/data/inferences/WSJ --lm_path=/raid/datasets/asr/data/models/language_models/WSJ_lm.binary --beam_width=200 --alpha=3.0 --beta=0.1 --eval_datasets=/raid/datasets/asr/data/example_data/wsj/wsj-eval-92.json --model_id=am-finetuned-WSJ_train_speed--lm-WSJ\n"
     ]
    }
   ],
   "source": [
    "# Model Id - We use this to identify the results of this model\n",
    "model_id = \"am-finetuned-WSJ_train_speed--lm-WSJ\"\n",
    "# Inference with Pretrained model\n",
    "lm_infer_cmd = project.get_inference_cmd(model_id=model_id)\n",
    "print(\"! \"+ lm_infer_cmd)"
   ]
  },
  {
   "cell_type": "markdown",
   "metadata": {},
   "source": [
    "### 3.3.3 Run Inference with Finetuned Model\n",
    "To run inference, copy (Shift + Left Mouse click, Copy) the command generated above and paste below."
   ]
  },
  {
   "cell_type": "code",
   "execution_count": 16,
   "metadata": {},
   "outputs": [
    {
     "name": "stdout",
     "output_type": "stream",
     "text": [
      "/opt/conda/lib/python3.6/site-packages/torchvision/io/_video_opt.py:17: UserWarning: video reader based on ffmpeg c++ ops not available\n",
      "  warnings.warn(\"video reader based on ffmpeg c++ ops not available\")\n",
      "Could not import torchaudio. Some features might not work.\n",
      "2019-12-15 21:21:41,683 - INFO - Dataset loaded with 0.71 hours. Filtered 0.00 hours.\n",
      "2019-12-15 21:21:41,684 - INFO - Evaluating 333 examples\n",
      "2019-12-15 21:21:41,685 - INFO - PADDING: 16\n",
      "2019-12-15 21:21:41,685 - INFO - STFT using conv\n",
      "2019-12-15 21:21:43,775 - INFO - ================================\n",
      "2019-12-15 21:21:43,778 - INFO - Number of parameters in encoder: 18894656\n",
      "2019-12-15 21:21:43,778 - INFO - Number of parameters in decoder: 29725\n",
      "2019-12-15 21:21:43,781 - INFO - Total number of parameters: 18924381\n",
      "2019-12-15 21:21:43,781 - INFO - ================================\n",
      "2019-12-15 21:21:43,788 - INFO - Restoring JasperEncoder from /home/adrianaf/projects/asr_system/nemo_asr_app/demo/finetuned/JasperEncoder-STEP-174000.pt\n",
      "2019-12-15 21:21:43,987 - INFO - Restoring JasperDecoderForCTC from /home/adrianaf/projects/asr_system/nemo_asr_app/demo/finetuned/JasperDecoderForCTC-STEP-174000.pt\n",
      "Selected optimization level O1:  Insert automatic casts around Pytorch functions and Tensor methods.\n",
      "\n",
      "Defaults for this optimization level are:\n",
      "enabled                : True\n",
      "opt_level              : O1\n",
      "cast_model_type        : None\n",
      "patch_torch_functions  : True\n",
      "keep_batchnorm_fp32    : None\n",
      "master_weights         : None\n",
      "loss_scale             : dynamic\n",
      "Processing user overrides (additional kwargs that are not None)...\n",
      "After processing overrides, optimization options are:\n",
      "enabled                : True\n",
      "opt_level              : O1\n",
      "cast_model_type        : None\n",
      "patch_torch_functions  : True\n",
      "keep_batchnorm_fp32    : None\n",
      "master_weights         : None\n",
      "loss_scale             : dynamic\n",
      "2019-12-15 21:21:44,081 - INFO - Evaluating batch 0 out of 11\n",
      "2019-12-15 21:21:45,806 - INFO - Evaluating batch 1 out of 11\n",
      "2019-12-15 21:21:46,105 - INFO - Evaluating batch 2 out of 11\n",
      "2019-12-15 21:21:46,394 - INFO - Evaluating batch 3 out of 11\n",
      "2019-12-15 21:21:46,710 - INFO - Evaluating batch 4 out of 11\n",
      "2019-12-15 21:21:47,029 - INFO - Evaluating batch 5 out of 11\n",
      "2019-12-15 21:21:47,357 - INFO - Evaluating batch 6 out of 11\n",
      "2019-12-15 21:21:47,675 - INFO - Evaluating batch 7 out of 11\n",
      "2019-12-15 21:21:48,034 - INFO - Evaluating batch 8 out of 11\n",
      "2019-12-15 21:21:48,355 - INFO - Evaluating batch 9 out of 11\n",
      "2019-12-15 21:21:48,644 - INFO - Evaluating batch 10 out of 11\n",
      "2019-12-15 21:21:48,987 - INFO - Greedy WER 4.47%\n",
      "2019-12-15 21:21:48,987 - INFO - ================================\n",
      "2019-12-15 21:21:48,988 - INFO - Infering with (alpha, beta): (3.0, 0.1)\n",
      "Selected optimization level O1:  Insert automatic casts around Pytorch functions and Tensor methods.\n",
      "\n",
      "Defaults for this optimization level are:\n",
      "enabled                : True\n",
      "opt_level              : O1\n",
      "cast_model_type        : None\n",
      "patch_torch_functions  : True\n",
      "keep_batchnorm_fp32    : None\n",
      "master_weights         : None\n",
      "loss_scale             : dynamic\n",
      "Processing user overrides (additional kwargs that are not None)...\n",
      "After processing overrides, optimization options are:\n",
      "enabled                : True\n",
      "opt_level              : O1\n",
      "cast_model_type        : None\n",
      "patch_torch_functions  : True\n",
      "keep_batchnorm_fp32    : None\n",
      "master_weights         : None\n",
      "loss_scale             : dynamic\n",
      "2019-12-15 21:21:57,021 - INFO - Beam WER 2.41%\n",
      "2019-12-15 21:21:57,022 - INFO - Beam WER for (alpha, beta)\n",
      "2019-12-15 21:21:57,022 - INFO - ================================\n",
      "2019-12-15 21:21:57,022 - INFO - \n",
      "((3.0, 0.1), 2.410065567960305)\n",
      "2019-12-15 21:21:57,022 - INFO - ================================\n",
      "2019-12-15 21:21:57,022 - INFO - Best (alpha, beta): (3.0, 0.1), WER: 2.41%\n",
      "2019-12-15 21:21:57,022 - INFO - Saving inference results to /raid/datasets/asr/data/inferences/WSJ/results-lm_grid__wsj-eval-92__am-finetuned-WSJ_train_speed--lm-WSJ.json\n"
     ]
    }
   ],
   "source": [
    "! python /home/adrianaf/projects/asr_system/nemo_asr_app/tools/NeMo/jasper_eval.py --load_dir=/home/adrianaf/projects/asr_system/nemo_asr_app/demo/finetuned --model_config=/raid/datasets/asr/data/config_files/WSJ_acoustic_quartznet15x5.yaml --batch_size=32 --amp_opt_level=O1 --save_results=/raid/datasets/asr/data/inferences/WSJ --lm_path=/raid/datasets/asr/data/models/language_models/WSJ_lm.binary --beam_width=200 --alpha=3.0 --beta=0.1 --eval_datasets=/raid/datasets/asr/data/example_data/wsj/wsj-eval-92.json --model_id=am-finetuned-WSJ_train_speed--lm-WSJ"
   ]
  },
  {
   "cell_type": "markdown",
   "metadata": {},
   "source": [
    "# 4. Results and Model Comparison"
   ]
  },
  {
   "cell_type": "markdown",
   "metadata": {},
   "source": [
    "## 4.1 Add Inference results to manifest\n",
    "We first add the results from our inference runs to the project's manifest."
   ]
  },
  {
   "cell_type": "code",
   "execution_count": 17,
   "metadata": {},
   "outputs": [
    {
     "name": "stdout",
     "output_type": "stream",
     "text": [
      "Added results for model am-finetuned-WSJ_train_speed--lm-Libri - /raid/datasets/asr/data/example_data/wsj/wsj-eval-92.json.\n",
      "Results for model 'am-finetuned-WSJ_train_speed-greedy-decoder' already exists - to replace delete prior results).\n",
      "Results for model 'am-pretrained-greedy-decoder' already exists - to replace delete prior results).\n",
      "Added results for model am-finetuned-WSJ_train_speed--lm-WSJ - /raid/datasets/asr/data/example_data/wsj/wsj-eval-92.json.\n"
     ]
    }
   ],
   "source": [
    "project.add_inference_results()"
   ]
  },
  {
   "cell_type": "markdown",
   "metadata": {},
   "source": [
    "Now that the inference results are added, we can see them in the manifest. \n",
    "The results are structured as follows: For each evaluation dataset, we have a multiple models identified by their `model_id` and inside those we have the model's results."
   ]
  },
  {
   "cell_type": "code",
   "execution_count": 18,
   "metadata": {},
   "outputs": [
    {
     "name": "stdout",
     "output_type": "stream",
     "text": [
      "Datasets with inference:  ['/raid/datasets/asr/data/example_data/wsj/wsj-eval-92.json']\n",
      "\n",
      "/raid/datasets/asr/data/example_data/wsj/wsj-eval-92.json\n",
      "{'am-finetuned-WSJ_train_speed-greedy-decoder': {'wer': 0.044657097288676235, 'path': '/raid/datasets/asr/data/inferences/WSJ/results-am_grid__wsj-eval-92__am-finetuned-WSJ_train_speed-greedy-decoder.json', 'lm_wer': None}, 'am-pretrained-greedy-decoder': {'wer': 0.09994683678894205, 'path': '/raid/datasets/asr/data/inferences/WSJ/results-am_grid__wsj-eval-92__am-pretrained-greedy-decoder.json', 'lm_wer': None}, 'am-finetuned-WSJ_train_speed--lm-Libri': {'wer': 0.044479886585149744, 'path': '/raid/datasets/asr/data/inferences/WSJ/results-lm_grid__wsj-eval-92__am-finetuned-WSJ_train_speed--lm-Libri.json', 'lm_wer': 0.037037037037037035}, 'am-finetuned-WSJ_train_speed--lm-WSJ': {'wer': 0.044657097288676235, 'path': '/raid/datasets/asr/data/inferences/WSJ/results-lm_grid__wsj-eval-92__am-finetuned-WSJ_train_speed--lm-WSJ.json', 'lm_wer': 0.02410065567960305}}\n"
     ]
    }
   ],
   "source": [
    "inf_datasets = list(project.manifest.inference.keys())\n",
    "print(\"Datasets with inference: \", inf_datasets)\n",
    "\n",
    "for inf in inf_datasets:\n",
    "    print()\n",
    "    print(inf)\n",
    "    print(project.manifest.inference[inf])"
   ]
  },
  {
   "cell_type": "markdown",
   "metadata": {},
   "source": [
    "To obtain the `Transcript` and `Ground Truth` from an evaluation dataset, you can use the commands `get_transcript` and `get_gtruth` using the path to the inference results which can be obtained by `project.get_inf_path`."
   ]
  },
  {
   "cell_type": "code",
   "execution_count": 19,
   "metadata": {
    "scrolled": true
   },
   "outputs": [
    {
     "name": "stdout",
     "output_type": "stream",
     "text": [
      "/raid/datasets/asr/data/inferences/WSJ/results-lm_grid__wsj-eval-92__am-finetuned-WSJ_train_speed--lm-WSJ.json\n",
      "dravo last month agreed in principle to sell its inland water transportation stevedoring and pipe fabrication businesses for an undisclosed sum the combined businesses accounted for two hundred thirty five million dollars of dravo's eight hundred ninety three million dollars in nineteen eighty five revenue in september the company received ninety six point eight million dollars as its share of damages from a breach of contract award related to a coal partnership south africa the solution by francis kendall and leon louw has sold over twenty five thousand copies since last year as miss kendell and mister lowe set south africa's central government is like a big lumbering tank white bureaucrats are in the driver's seat and blacks rightly fear what the tank weapons can do to them many want to storm the tank and take it over but if the history of other african nations is any guide whites indians and small black tribes should fear that grains and soybeans most corn and wheat futures prices were stronger wheat futures were supported by concern that wheat may be vulnerable if cold snaps follow this past weekend warmth analysts said the warming trend may have melted the snow cover on some crops corn futures received some strength on expectation that the agriculture department would raise soviet import forecasts analysts said after the close of trading the forecasts were increased soybean futures prices were mixed with beans and oil finishing higher stronger palm oil prices helped oil prices firm analysts said contacts still inside owens corning help too mister collins learned that an owens corning division was reducing its staff and would need outside help to produce a newsletter he made a sales call he says it wasn't a giveaway i sat down and figured out what they needed and sold them on it the sense of impending doom has stymied teamwork they say there was a lot more helping out and sharing before says bill kay the credit manager today he says the attitude is i've got my job and you've got your job adds jim a division manager for a retailer it's a doggy dog world mister holmes a court said he plans to review the structure of bell group it may be that our structure and multiplicity of corporations isn't the most effective for the future no firm plan has been devised but it is under consideration to review the whole structure he said the people's party cadre moved into key positions in areas of public administration including health education labor foreign relations and agriculture this allowed it to place more of its cadre in the panamanian bureaucracy numerous comrades were appointed most of whom graduated from university's in communist bloc nations as with the rest of the regime however their ideology became contaminated by the germ of corruption this was particularly true for the political labor and student organizations which unconditionally surrendered to the defense forces the saga began four years ago when pennzoil sued texaco over its acquisition of getty oil in nineteen eighty five pennzoil won nearly eleven billion dollars in damages at trial the biggest judgment ever awarded a plaintiff the two companies agreed to settle a case for three billion dollars in late december pennzoil has been fretting over the details of moving the money ever since summits have their political benefits of course not least that the president dominates the news vice president bush must be especially grateful for the change of subject anything was better than a drumbeat about panama and general noriega but having talked to a variety of republicans about this in recent weeks i'm convinced that more are worried about this paradox of dayton than publicly led on there's no doubt we've diminished the soviet threat very substantially in the last year says minnesota representative vin weber but there are also risks too steep a fall can mean higher inflation and eventually higher interest rates a lower dollar also makes it cheaper for foreigners to buy u s assets everything from stocks and bonds to real estate and corporations mister aziz a former english teacher is adapted delivering straight talk with diplomatic smiles that soften the harshness of his words but even this silver haired cigar smoking diplomat used tough words to describe america's arms sales to iran mister aziz who is iraq's link to the u s is especially sensitive about the american deception over iran we felt this was an active aggression he said without any moral or political justification he said the sales had had a major psychological impact on iran and a negative military impact on iraq associated ends known as aircoa is the general partner of aircoa hotel partners and has a one percent general partner interest in the partnership the remaining ninety nine percent interest in the partnership currently is held by affiliates of arcoa an aircoa spokeswoman said the company formed a venture to create a financing vehicle for future hotel projects early last week mister chun did offer concessions he said he would reopen national assembly debate on constitutional revision which in april he had suspended until after the nineteen eighty eight olympics the opposition rejected the gesture as too little too late glasnost has also been good to lawrence lenten smith last year he went to the soviet union to record with the moscow philharmonic the first time an american conductor has done so he says it can get corn to say that music is a universal language but it really is musicians are musicians yesterday's session began with a sharp quick decline in the industrial average of more than forty five points which some market analysts attributed to foreign selling but to the surprise of almost everyone stock prices began a steady climb that pushed the average above wednesday's close although those gains eroded during the afternoon stock prices stayed within a narrow range until the last half hour of trading whatever the case the main focus of attention remains today's trade report this market is waiting for only one thing says alfred rolf a senior vice president at thomson mckinnon securities incorporated the big shoe is going to drop when we see the trade number bids totaling six hundred fifty one million dollars were submitted accepted bids ranged from six point three eight five percent to six point four three six percent the bank holding company slated another fifty million dollar sale for next tuesday he noted that last week's one hundred eight point drop in the dow jones industrial average resulted from a slightly weaker dollar the markets tend to magnify the news they probably shouldn't have reacted so badly last week and perhaps they shouldn't have reacted so well to this astronomers say that the earth's fate is sealed five billion years from now the sun will slowly swallow the earth in a huge fire ball the fate of the universe is still a mystery astronomers can't tell whether the universe will expand forever powered by the big bang of old or whether it will submit collapse into an apocalyptic big crunch laguardia has only fifty seven gates but at peak hours dozens of more planes may be on the ground when flights arrive early pilots have no choice but to park the jet and wait for a gate the gates and corridors were designed for a smaller aircraft wide bodied aircraft take up two gates further snarling traffic now whatever their drawbacks in real life wimps and fiction are not necessarily bad things they can be hilariously funny as well as highly effective tools for satire this is especially true in the work of british novelists and even previously in the work of william boyd n a s a scheduled the launch of the space shuttle discovery for september twenty ninth the shuttle would be the first to lift off since the nineteen eighty six challenger explosion the launch had been planned for earlier this year but was scrubbed by the space agency about five times because of design and other delays hunters said a d c three transport shot down monday by honduran fighters apparently was carrying drugs from colombia the pilot and american and two others aboard died in the crash officials in tegucigalpa said the plane ignored requests to land after entering honduran airspace during the honolulu federal negotiations mister simon ran into mister martin at the christening of a mutual friend's child the two men had known each other for some years but their meeting turned out to be propitious mister martin recently departed from the fed told mister simon during a ride to washington national airport that he might start a private mortgage insurance concern instead mister simons persuaded him to join his group as chief executive officer of the various holding companies to be set up to own each thrift stories of the left wing antics of britain's local governments have appeared in the british press for several years in recent weeks for example readers here have heard of the banning of anti irish jokes in one london burrough they've learned of a book distributed in another burrough called jesse's dream skirt about a little boy who challenges sexes and by dressing as a girl the british public has gotten used to enjoin such loony left stories as part of its regular newspaper diet but there's an ugly side to what's going on in local government that deserves closer attention u s exports rose in the month but not nearly as much as imports strong imports however mean that domestic demand right now is strong one sure way to curb a trade deficit is to have a full blown recession trade deficits weakened the dollar as they did last week and in a short run a weaker dollar means more help for exports in the longer run the weak dollar may mean more inflation and tight money and eventually a recession right now however the economy appears still to be growing for many japanese companies it was the first time they'd ever seen an american investor says mister aron many people believe that commodore matthew c perry discovered japan for americans actually it was paul aron he quips mister holmes a court said he plans to review the structure of bell group it may be that our structure and multiplicity of corporations isn't the most effective for the future no firm plan has been devised but it is under consideration to review the whole structure he said mister robertson can best be understood not as a new figure in the conservative movement but as the air of the populists and father kaplan as the populist did he appeals to less educated lower middle class people who find economic and social change frightening populist meetings had revivalist flavor with banners urging people to vote as they prayed but the nation's largest retailer chicago based sears roebuck and company reported a decline of zero point six percent in comparable store sales the company declined to comment on the results painewebber's miss mcglade said a special promotion boosted year earlier sales significantly making it hard to achieve gains in the latest period george e r kinnear the second was named to the new post of senior vice president in charge of long range planning and related government relations he had been senior vice president of washington operations for the defense contractor peter f barry succeeds mister kinnear and washington as a vice president mister berry had been president of hartman systems a unit of figgie international incorporated now cba is trying to make amends it invited residents to join a committee to air their gripes against the company and discuss solutions the company also donated fifty thousand dollars to a local environmental group to hire specialists to evaluate the company's plans to clean up contaminated sites the consultants noticed an omission in the plans that neither the company nor federal regulators had spotted ciba agreed to remedy the oversight n a s a scheduled the launch of the space shuttle discovery for september twenty ninth the shuttle would be the first to lift off since the nineteen eighty six challenger explosion the launch had been planned for earlier this year but was scrubbed by the space agency about five times because of design and other delays several tire industry executives and analysts question whether a slim down firestone can prosper merely by making tires and repairing cars they expect companies to grow or disappear he is proven that he can turn a sick animal into a healthy one says harry w millis tire analyst with mcdonald and company cleveland he's done very well for stockholders but it's difficult to see where the company goes from here the audio and automobile industries aren't the only ones that have let early advantages in technology or design slip away british appliance makers have lost ground to continental europeans who have established a reputation for design and quality standards television set makers regularly scheduled t v programming began here have lost out to the japanese and the europeans british computer brands like saint clare and acorn have bloom but quickly faded e e c o incorporated isn't selling ex dividend today it will sell ex dividend at a later date the error was by the american stock exchange for months he had suffered night sweats fevers and weight loss so finally the worried new yorker had his blood tested for evidence of the aids virus the result was positive he and other u s industry leaders insist though that import should be subject to the same degree of scrutiny and they balk at the approach used in meat and poultry plants continue as inspection of production lines instead they favor unannounced checks by roving rather than in house inspectors focusing on critical control points in c food processing astronomers say that the earth's fate is sealed five billion years from now the sun will slowly swallow the earth in a huge fire ball the fate of the universe is still a mystery astronomers can't tell whether the universe will expand forever powered by the big bang of old or whether it will someday collapse into an apocalyptic big crunch prompted by news reports of alleged misappropriation of funds the s e c visited the firm's new york headquarters last week with the intention of examining business records instead it found that a fashion design firm miguel cruz international was operating at the location registered as that of mister polo's investment firm mister polo also owns the fashion company at forty years old mister wang is relatively young for his job and that upsets colleagues who are used to a gradual promotion system based on seniority so mister wan tells people he is fifty his m b a also irked some colleagues who are contemptuous of foreign concepts especially those that make them work harder sterling software which said it agreed to sell its commercial professional services group fell one eighth to seven and one eighth the company said the group's domestic and international operations will be sold separately it didn't identify the buyers or disclose terms of the sales muscular dystrophy has baffled scientists ever since g a b du cain first recognized the disorder in one thousand eight hundred fifty eight since each ten as the blueprint for a protein the defect is known to involve a protein that affects muscles but attempts to isolate a missing or defective protein in a muscle tissue of moscow or distract patients have long proved frustrating now ciba is trying to make amends it invited residents to join a committee to air their gripes against the company and discuss solutions the company also donated fifty thousand dollars to a local environmental group to higher specialists to evaluate the company's plans to clean up contaminated sites the consultants noticed an a mission in the plans that neither the company nor federal regulators had spotted seba agreed to remedy the oversight a g edwards as it often has during the past year the saint louis firm showed up its nine new york competitors in the latest quarter edwards tends to select the stocks of relatively small companies often not widely followed on wall street that meet traditional value criteria for example it likes stocks that sell at a low multiple of the company's book value or assets minus liabilities per share it also favors stocks that pay good dividends the average dividend yield of its recommended stocks is three point seven percent the second highest in the group after smith barney's four point one percent i b m fell one and seven eighths to one hundred twenty and three eighths on more than two point five million shares furman selz mager dietz and birney reportedly joined the crowd of wall street houses cutting their nineteen eighty seven i b m earnings estimate the firm said it doesn't comment on its stock recommendations or earnings estimates probably the largest contributor to the earnings upturn for major producers is a new pay structure hammered out in the heavily unionized pacific northwest in order to stay competitive with a proliferating number of small non union operations in the region most companies have successfully squeezed substantial wage concessions from lumber unions although such efforts triggered a rash of unsuccessful strikes last summer management's adoption of the new aggressive posture had to be done says one analyst a little good news could soften the market's resistance that fickle market changes quickly says john icon chairman of eastern utilities associates boston which owns fifteen percent of seabrook we just get a good sign and that market will respond u s warships and helicopters chased away an iranian warship from a convoy of four kuwaiti tankers in the persian gulf it was considered the first major confrontation in the u s escort operation in a separate incident a u s destroyer fired machine gun warning shots at two small unidentified boats that approached the convoy mister holmes a court said he plans to review the structure of bell group it may be that our structure and multiplicity of corporations isn't the most effective for the future no firm plan has been devised but it is under consideration to review the whole structure he said whatever the case the main focus of attention remains today's trade report this market is waiting for only one thing said alfred roth senior vice president at thomson mckinnon securities incorporated the big shoe is going to drop when we see the trade number the philippine military said it had uncovered a plot by communist guerrillas to kill retired u s major general singlaub the plan was discovered after decoding data captured in last week's arrest of twenty rebel leaders the rebels have accused singlaub of forming anti communist vigilante groups even the billions on the floor of the new york stock exchange was tempered by a few gloomy thoughts there are always some pessimists on cynic said a floor specialist there are some guys here that are saying this is the final jump before the crash they're just waiting for the other shoe george r kiner the second was named to the new post of senior vice president in charge of long range planning and related government relations he had been senior vice president of washington operations for the defense contractor peter f barry succeeds mister kinnear and washington as a vice president mister berry had been president of hartman systems a unit of figgie international incorporated but other observers aren't so pessimistic abby joseph cohen a portfolio strategist at drexel burnham lambert says the last in ebullient reaction was entirely in keeping with a new mood on wall street in general investors are a conservative lot these days she says responses tend to be muted we're seeing a response in the right direction but it's clearly tempered by natural conservatism right now i'm not at all unhappy with what i'm seeing not everyone buys the death of the dollar thesis while not ruling out that the u s currency could decline overtime mister lipsky of salomon says he thinks the jury is still out he argues that friday's unemployment figures undermined the thesis of a sharply slowing economy he also says the authorities mean what they say that they will not stand aside and let currencies reach new lows post election mister bigelow said that in order to market these and other drugs merck plans to increase its sales force by five hundred this year such jobs are seen as the plum of the industry because of merck's extensive line of products the pink sheet a drug industry trade letter reported this week that merck had twenty eight thousand applications for the openings i b m fell one and seven eighths to one hundred twenty and three eighths on more than two point five million shares furman selz mager dietz and birney reportedly joined the crowd of wall street houses cutting their nineteen eighty seven i b m earnings estimate the firm said it doesn't comment on its stock recommendations or earnings estimates traders insist that an expected injection of liquidity from investment trusts and other institutions will help boost share prices later in the week further slides on wall street on the other hand could have a negative impact traders say some investors are preparing for a short term correction this month although most believe that it won't be significant the article also states usually companies must keep paying workers participating in a slowdown because they continue to do their jobs and adhere to the rules however as suggested later in the article the employer may respond with a lockout and discontinuance of pay only a few states require unemployment compensation for locked out workers for such group rate coverage employers can charge the former workers and their families the average cost of providing the health benefits plus a two percent administrative fee in most cases that still would be less than they would pay for arranging coverage on their own but some may be better off looking for insurance outside the employers' continued group rate plan however in light of the stakes already held by the various factions only about ten percent of generale de belgique's shares appear to be available on the market this means that for mister de benedetti to increase his stake by fifteen percent members of mister leysen's group would have to sell to him some sources said some of the less traditional holders of generale de belgique's shares could be tempted by the prospect of capital gains regardless of the outcome of any meeting with gillette coniston seems almost certain to nominate its own slate of directors sometime next week the deadline for doing so is february twenty first two months before gillette's april twenty first annual meeting thus in order to reserve its right to launch a proxy fight coniston would need to nominate its slate by friday february nineteenth bids totaling six hundred fifty one million dollars were submitted accepted bids ranged from six point three eight five percent to six point four three six percent the bank holding company slated another fifty million dollar sale for next tuesday in january the arabic speaking mideast expert mister barter ose arrived to take charge of the delegation his credentials suggested that the soviets might harbor more interest in diplomacy than real estate if the soviets decide to change the nature of the mission they now have the right guy here says the israeli official now ciba is trying to make amends it invited residents to join a committee to air their gripes against the company and discuss solutions the company also donated fifty thousand dollars to a local environmental group to hire specialists to evaluate the company's plans to clean up contaminated sites the consultants noticed an omission in the plans that neither the company nor federal regulators had spotted seba agreed to remedy the oversight separately moody's investors service incorporated said it placed c s x and its transportation subsidiaries on review for possible downgrade because of c s x's restructuring plan the rating concern also placed the single a two senior debt rating of c s x's texas gas transmission unit on review with direction uncertain about one point five billion dollars of debt is under review but look a little further there are ways around hiring freezes in a local plant the manufacturing manager needed another foreman a salaried position but there was a freeze on hiring salaried personnel so an hourly operator was promoted to forman but maintained on the hourly payroll the head count a bogus measuring device if ever there was one remained the same there was no increase in salaried personnel not everyone buys the death of the dollar thesis while not ruling out that the u s currency could decline overtime mister lipsky of salomon says he thinks the jury is still out he argues that friday's unemployment figures undermine the thesis of a sharply slowing economy he also says the authorities mean what they say that they will not stand aside and let currencies reach new lows post election mister beesley now says he sought the accounting changes because without them it was clear that sooner or later we would need taxpayer money he acknowledges discussing the potential of speeding up losses but denies making any threat however the other officials characterized his message as let us try some phony bologna county or we can cause chaos mister simmons couldn't immediately be reached for comment but he said in an interview last week that he could raise five hundred million dollars pretty fast to pursue an acquisition that doesn't mean he will try to buy m vermont in recent years he has invested in g a f corporation and louisiana land and exploration company among others without bidding to acquire them at home the permanent secretary of the ministry of communications and information has rebuked the american business counsel another spokesman for the ministry has replied to the foreign correspondents association of southeast asia and the press secretary to the minister of communications and information has responded to numerous criticisms nobody knows how the south african government will react this isn't the time to take the chance and ask them that says mister applebaum who adds that his home phone is bugged meantime more departures loom and he fears that the opportunity is fading higher interest rates of course could be offset by higher inflation that's more or less what the blue chip economists expect but the federal reserve and mister greenspan are likely to be working hard to keep inflation down the new chairman knows that his political connections make some market participants suspicious that he will try to stimulate the economy to help g o p candidates next year mitchell held an economist at smith barney harris upham and company thinks mister greenspan wants to establish his credentials as an inflation fighter as signs of a stronger economy emerge he adds long term rates are likely to drift higher short term rates he says are likely to remain steady or move somewhat higher under terms previously reported the italian agricultural concern assumed about one hundred ninety five million dollars in subordinated debt as part of the transaction shamrock's pretax profit from the sale was one hundred twenty five million dollars a spokeswoman said shamrock has interests in television and radio stations energy services real estate and venture capital in any case there are problems with the smooth transition thesis for one thing consumers may not be quite ready to quit spending there are indications that sales are slowing down but consumer credit surged upward in december if it isn't one thing it's another i see by the papers that people are worried about the coming budget surplus the worries are of two kinds one is that we will have the surplus but shouldn't the other is that we should have the surplus but won't yet even at eighty six he is considered the country's most dynamic political figure he's the only guy who could show up in the plaza and draw a crowd of seventy five thousand people says one latin diplomat mister eisenman the opposition businessman says arnulfo isn't the solution but there isn't any solution without our nfo at forty years old mister wing is relatively young for his job and that upsets colleagues who are used to a gradual promotion system based on seniority so mister wang tells people he is fifty his m b a also irked some colleagues who are contemptuous of foreign concepts especially those that make them work harder the cost of animals used in research represents only one percent to two percent of total costs so increasing the cost of animals would not affect the bill for animal research significantly however increasing the cost of research animals should motivate researchers not to waste them on merely curious or repetitive studies if so then increasing the cost of research animals should actually reduce the bill of public pays for animal research mcdermott and n l are in different segments of the oil services business n l service as wells once they are drilled while mcdermitt builds offshore drilling rigs but both companies should benefit from an upturn in the oil and natural gas business thrift net worth assets minus liabilities expressed as a percentage of total liabilities the national average was four point six three percent in december nineteen eighty six thrifts must maintain a level of net worth that is at least three percent of their liabilities new federal rules require thrifts to gradually raise that level depending on the profitability of the industry the problem is that pan am's unions have lost confidence in mister acker and continue to insist that they won't make concessions unless he is replaced pan am is clearly banking on getting those concessions this year an executive at another airline says but acker's credibility has eroded to the point that if they pan am directors don't get rid of acer they won't get those concessions the working papers options for taxing employee benefits included limiting the exclusion of employer provided health insurance and cafeteria plan benefits also mentioned was a controversial proposal to deny the deduction for twenty percent of corporate advertising costs and to require instead that they be amortized over two years it has some appeal because it would raise thirty seven point nine billion dollars over three years we'd like to see something that leads to real democracy says jame bone vice secretary general of the independent liberal party unfortunately we see nothing but stunts and they may be able to get away with a lot more of these publicity maneuvers without giving up much real ground nakasone selected noburo takeshita to succeed him as japan's premier the choice by nakasone came after the former finance minister and his two rivals were deadlocked over who should be named president of the ruling liberal democratic party because the conservative party controls the parliament the winner of the top party post also becomes prime minister although japan's policies won't change radically under takeshita sixty three his lack of foreign policy experience could worsen japan's international relations the recall expands on a withdrawal of other models begun earlier this week a spokesman for the nuclear regulatory commission said three m decided to recall additional models of its air ionizers after radiation leaks were discovered at four facilities using those models the expanded recall was disclosed at a meeting with n r c officials and an agency office outside chicago market action was essentially digesting wednesday's rally the nasdaq composite index of four thousand six hundred thirty eight stocks closed at three hundred seventy four point six five down zero point one six but scores of smaller stocks rose and several of the bigger national market system issues managed gains as well because of a kind word from an analyst narrowly defined there are a dozen or so asset allocation funds although most of those have been weak performers this year that hasn't stopped others from trying to cash in on the term's new cachet everyone's running around trying to call themselves an allocation fund says don phillips editor of mutual fund values a mutual fund advisory service nuclear weapons free zones are attracting increasing and misguided public and parliamentary attention in the post i n f western world creating a nuclear free zone is partly a local decision citizens or government in a certain geographic area decided to ban nuclear weapons from that area they can also involve international cooperation the goal often is to get foreign states with nuclear arsenals to pledge not to use nuclear weapons against their own in addition nuclear free zones often include arrangements that require nuclear weapons deployed adjacent to his own on land or at s be pulled back yield management isn't all bad for consumers hotels can use the technology to predict when business will be unusually slow and thus when more discounting is needed and some chains such as holiday corporation shares incorporation and hyatt hotels corporation insist they will make plenty of rooms available at bargain rates the fee on the green or basic card will jump to fifty five dollars it was last raised in june nineteen eighty five to forty five dollars from thirty five dollars the gold card which includes a few additional services will now cost seventy five dollars a year the gold card fee was last increased in september nineteen eighty four to sixty five dollars from fifty dollars\n"
     ]
    }
   ],
   "source": [
    "# to get the path to the inference results - you need the dataset path and the model-id you wish to retrieve\n",
    "#path = project.get_inf_path('/raid/datasets/asr/data/example_data/wsj/wsj-dev-93.json',\n",
    "path = project.get_inf_path('/raid/datasets/asr/data/example_data/wsj/wsj-eval-92.json',\n",
    "                            'am-finetuned-WSJ_train_speed--lm-WSJ')\n",
    "print(path)\n",
    "\n",
    "transcript = get_transcript(path, lm=True) # get transcript generated by the LM\n",
    "gtruth = get_gtruth(path)\n",
    "print(transcript)"
   ]
  },
  {
   "cell_type": "markdown",
   "metadata": {},
   "source": [
    "## 4.2 Model Comparison\n",
    "Next, we compare the Word Error Rates for both the fine-tuned model and pre-trained model."
   ]
  },
  {
   "cell_type": "code",
   "execution_count": 20,
   "metadata": {},
   "outputs": [
    {
     "name": "stdout",
     "output_type": "stream",
     "text": [
      "['/raid/datasets/asr/data/example_data/wsj/wsj-eval-92.json']\n"
     ]
    }
   ],
   "source": [
    "inferences_all = list(project.manifest.inference.keys())\n",
    "inferences_all.sort()\n",
    "print(inferences_all)"
   ]
  },
  {
   "cell_type": "markdown",
   "metadata": {},
   "source": [
    "We select one eval dataset to plot its performance. We also select the performance metric we wish to sort by.\n",
    "\n",
    "Note, if `lm_wer` is present we chose that value over the `wer` value."
   ]
  },
  {
   "cell_type": "code",
   "execution_count": 21,
   "metadata": {},
   "outputs": [
    {
     "data": {
      "text/plain": [
       "{'am-finetuned-WSJ_train_speed-greedy-decoder': {'wer': 0.044657097288676235,\n",
       "  'path': '/raid/datasets/asr/data/inferences/WSJ/results-am_grid__wsj-eval-92__am-finetuned-WSJ_train_speed-greedy-decoder.json',\n",
       "  'lm_wer': None},\n",
       " 'am-pretrained-greedy-decoder': {'wer': 0.09994683678894205,\n",
       "  'path': '/raid/datasets/asr/data/inferences/WSJ/results-am_grid__wsj-eval-92__am-pretrained-greedy-decoder.json',\n",
       "  'lm_wer': None},\n",
       " 'am-finetuned-WSJ_train_speed--lm-Libri': {'wer': 0.044479886585149744,\n",
       "  'path': '/raid/datasets/asr/data/inferences/WSJ/results-lm_grid__wsj-eval-92__am-finetuned-WSJ_train_speed--lm-Libri.json',\n",
       "  'lm_wer': 0.037037037037037035},\n",
       " 'am-finetuned-WSJ_train_speed--lm-WSJ': {'wer': 0.044657097288676235,\n",
       "  'path': '/raid/datasets/asr/data/inferences/WSJ/results-lm_grid__wsj-eval-92__am-finetuned-WSJ_train_speed--lm-WSJ.json',\n",
       "  'lm_wer': 0.02410065567960305}}"
      ]
     },
     "execution_count": 21,
     "metadata": {},
     "output_type": "execute_result"
    }
   ],
   "source": [
    "sel_inference = project.manifest.inference[inferences_all[0]]\n",
    "sel_inference"
   ]
  },
  {
   "cell_type": "markdown",
   "metadata": {},
   "source": [
    "We select one eval dataset to plot its performance and we also select the performance metric we wish to sort by."
   ]
  },
  {
   "cell_type": "code",
   "execution_count": 22,
   "metadata": {},
   "outputs": [
    {
     "name": "stdout",
     "output_type": "stream",
     "text": [
      "/raid/datasets/asr/data/example_data/wsj/wsj-eval-92.json\n"
     ]
    },
    {
     "data": {
      "text/html": [
       "<div>\n",
       "<style scoped>\n",
       "    .dataframe tbody tr th:only-of-type {\n",
       "        vertical-align: middle;\n",
       "    }\n",
       "\n",
       "    .dataframe tbody tr th {\n",
       "        vertical-align: top;\n",
       "    }\n",
       "\n",
       "    .dataframe thead th {\n",
       "        text-align: right;\n",
       "    }\n",
       "</style>\n",
       "<table border=\"1\" class=\"dataframe\">\n",
       "  <thead>\n",
       "    <tr style=\"text-align: right;\">\n",
       "      <th></th>\n",
       "      <th>inference_types</th>\n",
       "      <th>lm_wer</th>\n",
       "      <th>wer</th>\n",
       "      <th>percentWER</th>\n",
       "    </tr>\n",
       "  </thead>\n",
       "  <tbody>\n",
       "    <tr>\n",
       "      <th>3</th>\n",
       "      <td>am-finetuned-WSJ_train_speed--lm-WSJ</td>\n",
       "      <td>0.024101</td>\n",
       "      <td>0.044657</td>\n",
       "      <td>2.410066</td>\n",
       "    </tr>\n",
       "    <tr>\n",
       "      <th>2</th>\n",
       "      <td>am-finetuned-WSJ_train_speed--lm-Libri</td>\n",
       "      <td>0.037037</td>\n",
       "      <td>0.044480</td>\n",
       "      <td>3.703704</td>\n",
       "    </tr>\n",
       "    <tr>\n",
       "      <th>0</th>\n",
       "      <td>am-finetuned-WSJ_train_speed-greedy-decoder</td>\n",
       "      <td>NaN</td>\n",
       "      <td>0.044657</td>\n",
       "      <td>4.465710</td>\n",
       "    </tr>\n",
       "    <tr>\n",
       "      <th>1</th>\n",
       "      <td>am-pretrained-greedy-decoder</td>\n",
       "      <td>NaN</td>\n",
       "      <td>0.099947</td>\n",
       "      <td>9.994684</td>\n",
       "    </tr>\n",
       "  </tbody>\n",
       "</table>\n",
       "</div>"
      ],
      "text/plain": [
       "                               inference_types    lm_wer       wer  percentWER\n",
       "3         am-finetuned-WSJ_train_speed--lm-WSJ  0.024101  0.044657    2.410066\n",
       "2       am-finetuned-WSJ_train_speed--lm-Libri  0.037037  0.044480    3.703704\n",
       "0  am-finetuned-WSJ_train_speed-greedy-decoder       NaN  0.044657    4.465710\n",
       "1                 am-pretrained-greedy-decoder       NaN  0.099947    9.994684"
      ]
     },
     "execution_count": 22,
     "metadata": {},
     "output_type": "execute_result"
    }
   ],
   "source": [
    "sort_metric = 'percentWER'\n",
    "# Note if you wish to plot (and parse) only a specific set of models you can use the argument 'keep' and \n",
    "# list the model_id(s) you wish to keep.\n",
    "lm_df = parse_manifest_wer(sel_inference, sort_metric=sort_metric)\n",
    "                           \n",
    "print(inferences_all[0])\n",
    "lm_df"
   ]
  },
  {
   "cell_type": "markdown",
   "metadata": {},
   "source": [
    "We use the dataframe created by the `parse_manifest_wer` function to plot the performance of the different models.\n",
    "We use the function `barplot_manifest` that has the arguments `([dataframe],[metric to plot],[title],[xlabel],[ylabel])`.\n",
    "\n",
    "Note: WER percent may be above 100% when the number of words in the prediction is larger than the number of words in the reference."
   ]
  },
  {
   "cell_type": "code",
   "execution_count": 23,
   "metadata": {},
   "outputs": [
    {
     "data": {
      "image/png": "[encoded data removed]",
      "text/plain": [
       "<Figure size 1440x648 with 1 Axes>"
      ]
     },
     "metadata": {
      "needs_background": "light"
     },
     "output_type": "display_data"
    }
   ],
   "source": [
    "%matplotlib inline\n",
    "lm_wer = barplot_manifest(lm_df,'percentWER',\"WSJ - Language Model - Word Error Rate\", \"Inference type\",\"Percent %\")"
   ]
  },
  {
   "cell_type": "markdown",
   "metadata": {},
   "source": [
    "## 5. WER effect of Language Model\n",
    "As shown in the plot, adding a Language Model improves model performance by a few percent, and this improvement is even larger when the LM is trained on domain data."
   ]
  },
  {
   "cell_type": "code",
   "execution_count": 24,
   "metadata": {},
   "outputs": [],
   "source": [
    "lm_df.set_index('inference_types', inplace=True)"
   ]
  },
  {
   "cell_type": "code",
   "execution_count": 25,
   "metadata": {},
   "outputs": [],
   "source": [
    "org = lm_df.loc['am-pretrained-greedy-decoder','wer'] # pre-trained model\n",
    "new = lm_df.loc['am-finetuned-WSJ_train_speed--lm-WSJ','lm_wer'] # fine-tuned am and lm model"
   ]
  },
  {
   "cell_type": "code",
   "execution_count": 26,
   "metadata": {},
   "outputs": [
    {
     "name": "stdout",
     "output_type": "stream",
     "text": [
      "Decreased WER by 75.89%\n"
     ]
    }
   ],
   "source": [
    "per_decrease = 100*((org-new)/org)\n",
    "print(\"Decreased WER by {0:.2f}%\".format(per_decrease))"
   ]
  },
  {
   "cell_type": "code",
   "execution_count": null,
   "metadata": {},
   "outputs": [],
   "source": []
  }
 ],
 "metadata": {
  "kernelspec": {
   "display_name": "Python 3",
   "language": "python",
   "name": "python3"
  },
  "language_info": {
   "codemirror_mode": {
    "name": "ipython",
    "version": 3
   },
   "file_extension": ".py",
   "mimetype": "text/x-python",
   "name": "python",
   "nbconvert_exporter": "python",
   "pygments_lexer": "ipython3",
   "version": "3.6.9"
  }
 },
 "nbformat": 4,
 "nbformat_minor": 4
}
