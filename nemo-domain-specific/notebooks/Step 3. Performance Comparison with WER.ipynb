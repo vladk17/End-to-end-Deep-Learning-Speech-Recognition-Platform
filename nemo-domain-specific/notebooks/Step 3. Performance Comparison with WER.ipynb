{
 "cells": [
  {
   "cell_type": "markdown",
   "metadata": {},
   "source": [
    "# Performance Comparison of Models' `Word Error Rate`\n",
    "\n",
    "In this notebook we compare the WER performance of the models created in Step 1 and 2 of the Domain Specific NeMo ASR application. We compare, in one place, the performance of the pre-trained models and the fine-tuned models across both acoustic and language model workflows. "
   ]
  },
  {
   "cell_type": "code",
   "execution_count": 1,
   "metadata": {},
   "outputs": [],
   "source": [
    "%load_ext autoreload\n",
    "%autoreload 2\n",
    "\n",
    "import pandas as pd\n",
    "import numpy as np\n",
    "\n",
    "from tools.System.reader import Reader\n",
    "from tools.misc import parse_manifest_wer, barplot_manifest"
   ]
  },
  {
   "cell_type": "markdown",
   "metadata": {},
   "source": [
    "# 1. Load project\n",
    "\n",
    "We first load the project through its `project_id`, in this way we have access to all the information (models, inference, performance, etc.) of the project."
   ]
  },
  {
   "cell_type": "code",
   "execution_count": 2,
   "metadata": {},
   "outputs": [
    {
     "name": "stdout",
     "output_type": "stream",
     "text": [
      "Manifest restored from /raid/datasets/asr/data/manifests/WSJ_manifest.json \n",
      "\n"
     ]
    }
   ],
   "source": [
    "project_id = 'WSJ'\n",
    "project = Reader.load_manifest(project_id, Reader)"
   ]
  },
  {
   "cell_type": "markdown",
   "metadata": {},
   "source": [
    "These are the evaluation files in this project that we performed inference with."
   ]
  },
  {
   "cell_type": "code",
   "execution_count": 3,
   "metadata": {},
   "outputs": [
    {
     "name": "stdout",
     "output_type": "stream",
     "text": [
      "['/raid/datasets/asr/data/example_data/wsj/wsj-eval-92.json']\n"
     ]
    }
   ],
   "source": [
    "inferences_all = list(project.manifest.inference.keys())\n",
    "inferences_all.sort()\n",
    "print(inferences_all)"
   ]
  },
  {
   "cell_type": "markdown",
   "metadata": {},
   "source": [
    "Given a selected evaluation dataset, these are the models used and their associated results.\n",
    "\n",
    "The results are structured as follows: For each evaluation dataset, we have a multiple models identified by their `model_id` and inside those we have the model's results."
   ]
  },
  {
   "cell_type": "code",
   "execution_count": 4,
   "metadata": {},
   "outputs": [
    {
     "name": "stdout",
     "output_type": "stream",
     "text": [
      "/raid/datasets/asr/data/example_data/wsj/wsj-eval-92.json\n"
     ]
    },
    {
     "data": {
      "text/plain": [
       "{'am-finetuned-WSJ_train_speed-greedy-decoder': {'wer': 0.044657097288676235,\n",
       "  'path': '/raid/datasets/asr/data/inferences/WSJ/results-am_grid__wsj-eval-92__am-finetuned-WSJ_train_speed-greedy-decoder.json',\n",
       "  'lm_wer': None},\n",
       " 'am-pretrained-greedy-decoder': {'wer': 0.09994683678894205,\n",
       "  'path': '/raid/datasets/asr/data/inferences/WSJ/results-am_grid__wsj-eval-92__am-pretrained-greedy-decoder.json',\n",
       "  'lm_wer': None},\n",
       " 'am-finetuned-WSJ_train_speed--lm-Libri': {'wer': 0.044479886585149744,\n",
       "  'path': '/raid/datasets/asr/data/inferences/WSJ/results-lm_grid__wsj-eval-92__am-finetuned-WSJ_train_speed--lm-Libri.json',\n",
       "  'lm_wer': 0.037037037037037035},\n",
       " 'am-finetuned-WSJ_train_speed--lm-WSJ': {'wer': 0.044657097288676235,\n",
       "  'path': '/raid/datasets/asr/data/inferences/WSJ/results-lm_grid__wsj-eval-92__am-finetuned-WSJ_train_speed--lm-WSJ.json',\n",
       "  'lm_wer': 0.02410065567960305}}"
      ]
     },
     "execution_count": 4,
     "metadata": {},
     "output_type": "execute_result"
    }
   ],
   "source": [
    "print(inferences_all[0])\n",
    "project.manifest.inference[inferences_all[0]]"
   ]
  },
  {
   "cell_type": "markdown",
   "metadata": {},
   "source": [
    "# 2. Performace Comparison\n",
    "Next, we select one evaluation dataset to plot its performance and we also select the performance metric we wish to sort by."
   ]
  },
  {
   "cell_type": "code",
   "execution_count": 5,
   "metadata": {},
   "outputs": [
    {
     "data": {
      "text/html": [
       "<div>\n",
       "<style scoped>\n",
       "    .dataframe tbody tr th:only-of-type {\n",
       "        vertical-align: middle;\n",
       "    }\n",
       "\n",
       "    .dataframe tbody tr th {\n",
       "        vertical-align: top;\n",
       "    }\n",
       "\n",
       "    .dataframe thead th {\n",
       "        text-align: right;\n",
       "    }\n",
       "</style>\n",
       "<table border=\"1\" class=\"dataframe\">\n",
       "  <thead>\n",
       "    <tr style=\"text-align: right;\">\n",
       "      <th></th>\n",
       "      <th>inference_types</th>\n",
       "      <th>lm_wer</th>\n",
       "      <th>wer</th>\n",
       "      <th>percentWER</th>\n",
       "    </tr>\n",
       "  </thead>\n",
       "  <tbody>\n",
       "    <tr>\n",
       "      <th>3</th>\n",
       "      <td>am-finetuned-WSJ_train_speed--lm-WSJ</td>\n",
       "      <td>0.024101</td>\n",
       "      <td>0.044657</td>\n",
       "      <td>2.410066</td>\n",
       "    </tr>\n",
       "    <tr>\n",
       "      <th>2</th>\n",
       "      <td>am-finetuned-WSJ_train_speed--lm-Libri</td>\n",
       "      <td>0.037037</td>\n",
       "      <td>0.044480</td>\n",
       "      <td>3.703704</td>\n",
       "    </tr>\n",
       "    <tr>\n",
       "      <th>0</th>\n",
       "      <td>am-finetuned-WSJ_train_speed-greedy-decoder</td>\n",
       "      <td>NaN</td>\n",
       "      <td>0.044657</td>\n",
       "      <td>4.465710</td>\n",
       "    </tr>\n",
       "    <tr>\n",
       "      <th>1</th>\n",
       "      <td>am-pretrained-greedy-decoder</td>\n",
       "      <td>NaN</td>\n",
       "      <td>0.099947</td>\n",
       "      <td>9.994684</td>\n",
       "    </tr>\n",
       "  </tbody>\n",
       "</table>\n",
       "</div>"
      ],
      "text/plain": [
       "                               inference_types    lm_wer       wer  percentWER\n",
       "3         am-finetuned-WSJ_train_speed--lm-WSJ  0.024101  0.044657    2.410066\n",
       "2       am-finetuned-WSJ_train_speed--lm-Libri  0.037037  0.044480    3.703704\n",
       "0  am-finetuned-WSJ_train_speed-greedy-decoder       NaN  0.044657    4.465710\n",
       "1                 am-pretrained-greedy-decoder       NaN  0.099947    9.994684"
      ]
     },
     "execution_count": 5,
     "metadata": {},
     "output_type": "execute_result"
    }
   ],
   "source": [
    "sel_inference = project.manifest.inference[inferences_all[0]]\n",
    "sort_metric = 'percentWER'\n",
    "\n",
    "# Note if you wish to plot (and parse) only a specific set of models you can use the argument 'keep' and \n",
    "# list the model_id(s) you wish to keep.\n",
    "df = parse_manifest_wer(sel_inference, sort_metric=sort_metric)\n",
    "df"
   ]
  },
  {
   "cell_type": "markdown",
   "metadata": {},
   "source": [
    "# 3. Perfromance Plot\n",
    "We use the dataframe created by the `parse_manifest_wer` function to plot the performance of the different models.\n",
    "We use the function `barplot_manifest` that has the arguments `([dataframe],[metric to plot],[title],[xlabel],[ylabel])`.\n",
    "\n",
    "Note: WER percent may be above 100% when the number of words in the prediction is larger than the number of words in the reference."
   ]
  },
  {
   "cell_type": "code",
   "execution_count": 6,
   "metadata": {},
   "outputs": [
    {
     "data": {
      "image/png": "[encoded data removed]",
      "text/plain": [
       "<Figure size 1440x648 with 1 Axes>"
      ]
     },
     "metadata": {
      "needs_background": "light"
     },
     "output_type": "display_data"
    }
   ],
   "source": [
    "%matplotlib inline\n",
    "WER = barplot_manifest(df,'percentWER',\"WSJ - Word Error Rate\", \"Inference type\",\"Percent %\")"
   ]
  },
  {
   "cell_type": "markdown",
   "metadata": {},
   "source": [
    "# 4. Performance Improvement \n",
    "With each model generated we see the progression in performance. Next, we see the total WER decrease from the pre-trained model to the fine-tuned model."
   ]
  },
  {
   "cell_type": "code",
   "execution_count": 7,
   "metadata": {},
   "outputs": [],
   "source": [
    "df.set_index('inference_types', inplace=True)"
   ]
  },
  {
   "cell_type": "code",
   "execution_count": 8,
   "metadata": {},
   "outputs": [],
   "source": [
    "org = df.loc['am-pretrained-greedy-decoder','wer'] # pre-trained model\n",
    "new = df.loc['am-finetuned-WSJ_train_speed--lm-WSJ','lm_wer'] # fine-tuned model"
   ]
  },
  {
   "cell_type": "code",
   "execution_count": 9,
   "metadata": {},
   "outputs": [
    {
     "name": "stdout",
     "output_type": "stream",
     "text": [
      "Decreased WER by 75.89%\n"
     ]
    }
   ],
   "source": [
    "per_decrease = 100*((org-new)/org)\n",
    "print(\"Decreased WER by {0:.2f}%\".format(per_decrease))"
   ]
  },
  {
   "cell_type": "code",
   "execution_count": null,
   "metadata": {},
   "outputs": [],
   "source": []
  }
 ],
 "metadata": {
  "kernelspec": {
   "display_name": "Python 3",
   "language": "python",
   "name": "python3"
  },
  "language_info": {
   "codemirror_mode": {
    "name": "ipython",
    "version": 3
   },
   "file_extension": ".py",
   "mimetype": "text/x-python",
   "name": "python",
   "nbconvert_exporter": "python",
   "pygments_lexer": "ipython3",
   "version": "3.6.9"
  }
 },
 "nbformat": 4,
 "nbformat_minor": 4
}
