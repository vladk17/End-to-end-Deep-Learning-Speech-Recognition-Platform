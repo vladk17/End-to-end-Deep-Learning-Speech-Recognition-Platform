{
  "nbformat": 4,
  "nbformat_minor": 0,
  "metadata": {
    "colab": {
      "name": "Build_LM.ipynb",
      "provenance": [],
      "toc_visible": true,
      "mount_file_id": "https://github.com/vladk17/End-to-end-Deep-Learning-Speech-Recognition-Platform/blob/master/Build_LM.ipynb",
      "authorship_tag": "ABX9TyMnI4/7wRppp7ZYzH6HRJxD",
      "include_colab_link": true
    },
    "kernelspec": {
      "name": "python3",
      "display_name": "Python 3"
    },
    "accelerator": "GPU"
  },
  "cells": [
    {
      "cell_type": "markdown",
      "metadata": {
        "id": "view-in-github",
        "colab_type": "text"
      },
      "source": [
        "<a href=\"https://colab.research.google.com/github/vladk17/End-to-end-Deep-Learning-Speech-Recognition-Platform/blob/master/Build_LM.ipynb\" target=\"_parent\"><img src=\"https://colab.research.google.com/assets/colab-badge.svg\" alt=\"Open In Colab\"/></a>"
      ]
    },
    {
      "cell_type": "code",
      "metadata": {
        "id": "eLkLOoUXuwos",
        "colab_type": "code",
        "colab": {}
      },
      "source": [
        "!df -h"
      ],
      "execution_count": 0,
      "outputs": []
    },
    {
      "cell_type": "code",
      "metadata": {
        "id": "UBF98HSW6otY",
        "colab_type": "code",
        "colab": {}
      },
      "source": [
        "!git clone https://github.com/NVIDIA/NeMo.git"
      ],
      "execution_count": 0,
      "outputs": []
    },
    {
      "cell_type": "code",
      "metadata": {
        "id": "ugRBNe_i7TgT",
        "colab_type": "code",
        "colab": {}
      },
      "source": [
        "!pip install NeMo/."
      ],
      "execution_count": 0,
      "outputs": []
    },
    {
      "cell_type": "code",
      "metadata": {
        "id": "5N73teso7bHa",
        "colab_type": "code",
        "colab": {}
      },
      "source": [
        "cd NeMo/scripts/"
      ],
      "execution_count": 0,
      "outputs": []
    },
    {
      "cell_type": "code",
      "metadata": {
        "id": "xXUkrho_73YM",
        "colab_type": "code",
        "colab": {}
      },
      "source": [
        "!./install_decoders.sh"
      ],
      "execution_count": 0,
      "outputs": []
    },
    {
      "cell_type": "code",
      "metadata": {
        "id": "PsLCTdALlCiO",
        "colab_type": "code",
        "colab": {}
      },
      "source": [
        "#with open ('build_6-gram_OpenSLR_lm.sh', 'r') as fr:\n",
        "#  n_gram_OpenSLR_lm_str = fr.read()"
      ],
      "execution_count": 0,
      "outputs": []
    },
    {
      "cell_type": "code",
      "metadata": {
        "id": "WTjS3zfFwb2Q",
        "colab_type": "code",
        "colab": {}
      },
      "source": [
        "n_gram_OpenSLR_lm_str_out = '''#!/usr/bin/env bash\n",
        "set -e\n",
        "if [ ! -d \"language_model\" ]; then\n",
        "  mkdir language_model\n",
        "fi\n",
        "\n",
        "cd \"language_model\"\n",
        "if [ ! -f \"librispeech-lm-norm.txt.gz\" ]; then\n",
        "  wget http://www.openslr.org/resources/11/librispeech-lm-norm.txt.gz\n",
        "fi\n",
        "gzip -d librispeech-lm-norm.txt.gz\n",
        "# convert all upper case characters to lower case\n",
        "tr '[:upper:]' '[:lower:]' < librispeech-lm-norm.txt > n-gram.txt\n",
        "cd ../../..\n",
        "# build a language model\n",
        "pip install pandas'''"
      ],
      "execution_count": 0,
      "outputs": []
    },
    {
      "cell_type": "code",
      "metadata": {
        "id": "T2QjqKdJxEB7",
        "colab_type": "code",
        "colab": {}
      },
      "source": [
        "print(n_gram_OpenSLR_lm_str_out)"
      ],
      "execution_count": 0,
      "outputs": []
    },
    {
      "cell_type": "code",
      "metadata": {
        "id": "16icJnJpnJ2V",
        "colab_type": "code",
        "colab": {}
      },
      "source": [
        "with open ('prepare_n-gram_OpenSLR_lm.sh', 'w') as fw:\n",
        "  fw.write(n_gram_OpenSLR_lm_str_out)"
      ],
      "execution_count": 0,
      "outputs": []
    },
    {
      "cell_type": "code",
      "metadata": {
        "id": "TDmRnDy8Uu_4",
        "colab_type": "code",
        "colab": {}
      },
      "source": [
        "! chmod +x prepare_n-gram_OpenSLR_lm.sh"
      ],
      "execution_count": 0,
      "outputs": []
    },
    {
      "cell_type": "code",
      "metadata": {
        "id": "TFQRkiWW75pI",
        "colab_type": "code",
        "colab": {}
      },
      "source": [
        "!./prepare_n-gram_OpenSLR_lm.sh"
      ],
      "execution_count": 0,
      "outputs": []
    },
    {
      "cell_type": "code",
      "metadata": {
        "id": "D8Op9qMzbRAz",
        "colab_type": "code",
        "colab": {}
      },
      "source": [
        "!head -n20 \"language_model/n-gram.txt\" "
      ],
      "execution_count": 0,
      "outputs": []
    },
    {
      "cell_type": "code",
      "metadata": {
        "id": "247S-lBebd0K",
        "colab_type": "code",
        "colab": {}
      },
      "source": [
        "!wc -l \"language_model/n-gram.txt\""
      ],
      "execution_count": 0,
      "outputs": []
    },
    {
      "cell_type": "code",
      "metadata": {
        "id": "m9uVCg9Vb9Is",
        "colab_type": "code",
        "colab": {}
      },
      "source": [
        "!tail \"language_model/n-gram.txt\""
      ],
      "execution_count": 0,
      "outputs": []
    },
    {
      "cell_type": "code",
      "metadata": {
        "id": "hVAOiCktcKJa",
        "colab_type": "code",
        "colab": {}
      },
      "source": [
        "!python build_lm_text.py --help "
      ],
      "execution_count": 0,
      "outputs": []
    },
    {
      "cell_type": "code",
      "metadata": {
        "id": "IBM8TebychDs",
        "colab_type": "code",
        "colab": {}
      },
      "source": [
        "!python build_lm_text.py --n 3 \"language_model/n-gram.txt\""
      ],
      "execution_count": 0,
      "outputs": []
    },
    {
      "cell_type": "code",
      "metadata": {
        "id": "VR075qs6cvRg",
        "colab_type": "code",
        "colab": {}
      },
      "source": [
        "ll -h language_model"
      ],
      "execution_count": 0,
      "outputs": []
    },
    {
      "cell_type": "code",
      "metadata": {
        "id": "MkOs4FEmD7gh",
        "colab_type": "code",
        "colab": {}
      },
      "source": [
        "!head -n20 language_model/n-gram.arpa"
      ],
      "execution_count": 0,
      "outputs": []
    },
    {
      "cell_type": "code",
      "metadata": {
        "id": "FOypQB1rEHqp",
        "colab_type": "code",
        "colab": {}
      },
      "source": [
        "! grep \"3-grams\" -A10 -B10 language_model/n-gram.arpa "
      ],
      "execution_count": 0,
      "outputs": []
    },
    {
      "cell_type": "code",
      "metadata": {
        "id": "luG1H04JFYFD",
        "colab_type": "code",
        "colab": {}
      },
      "source": [
        "! wc -l language_model/n-gram.arpa "
      ],
      "execution_count": 0,
      "outputs": []
    }
  ]
}