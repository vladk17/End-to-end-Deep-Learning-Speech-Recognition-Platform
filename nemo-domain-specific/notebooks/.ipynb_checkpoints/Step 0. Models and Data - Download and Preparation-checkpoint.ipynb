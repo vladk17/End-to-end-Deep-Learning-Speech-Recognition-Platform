{
 "cells": [
  {
   "cell_type": "markdown",
   "metadata": {},
   "source": [
    "# Downloads and Preparations for Example Use Case\n",
    "\n",
    "In this notebook we download and prepare the models and data required for the example use-case. \n",
    "\n",
    "To exemplify the end-to-end Domain Specific NeMo ASR application, we start with an acoustic model pre-trained on open-source English datasets [LibriSpeech](http://www.openslr.org/12) and [English - Mozilla Common Voice](https://voice.mozilla.org/en/datasets). Then we fine-tune the pre-trained acoustic and language models with **Wall Street Journal (WSJ)** news dataset. Through this example case, we show we can easily do transfer learning or domain adaptation from [relatively old] fiction books (LibriSpeech) to [relatively modern] business news (WSJ).\n",
    "\n",
    "The steps followed in this notebook are:\n",
    "1. Create a folder named `example_data` inside the `data directory` you input when starting the container.\n",
    "2. Get the `pre-trained` acoustic model from Nvidia GPU Cloud (NGC).\n",
    "3. Build a baseline Language Model (6-gram KenLM model trained on LibriSpeech)\n",
    "4. Download the WSJ trained models created by this application from NGC or alternatively the dataset for *acoustic model* and *language model* training (fine-tuning) and understand how to build NeMo ready datasets."
   ]
  },
  {
   "cell_type": "code",
   "execution_count": 1,
   "metadata": {},
   "outputs": [],
   "source": [
    "# required imports\n",
    "%load_ext autoreload\n",
    "%autoreload 2\n",
    "\n",
    "import os\n",
    "from tools.System.config import cfg\n",
    "from tools.filetools import mkdir_p\n",
    "from tools.misc import create_lm_dataset"
   ]
  },
  {
   "cell_type": "markdown",
   "metadata": {},
   "source": [
    "# 1. Create `example_data` folder\n",
    "We use the `example_data` folder within the data directory to host all pre-trained models and example datasets used in our use case."
   ]
  },
  {
   "cell_type": "code",
   "execution_count": 2,
   "metadata": {},
   "outputs": [
    {
     "name": "stdout",
     "output_type": "stream",
     "text": [
      "Expected path for 'example_data' folder: /raid/datasets/asr/data/example_data\n",
      "Created example_data folder at:  /raid/datasets/asr/data/example_data\n"
     ]
    }
   ],
   "source": [
    "# expected data path\n",
    "print(\"Expected path for 'example_data' folder:\", cfg.DATASET.PATHS.EXAMPLE_DATA)\n",
    "\n",
    "# create folder\n",
    "mkdir_p(cfg.DATASET.PATHS.EXAMPLE_DATA)\n",
    "print(\"Created example_data folder at: \", cfg.DATASET.PATHS.EXAMPLE_DATA)"
   ]
  },
  {
   "cell_type": "markdown",
   "metadata": {},
   "source": [
    "# 2. Download pre-trained model from NGC\n",
    "\n",
    "In this ASR workflow we use the QuartzNet model, a high-performing yet small end-to-end neural acoustic model for automatic speech recognition. Learn more about QuartzNet here: [tutorial](https://nvidia.github.io/NeMo/asr/quartznet.html) and [paper](https://arxiv.org/pdf/1910.10261.pdf). \n",
    "\n",
    "### QuartzNet 15x5 for NeMo\n",
    "You can find this pre-trained model inside the demo folder: `/tmp/nemo_asr_app/demo/pre-trained/`\n",
    "\n",
    "You can also download it from:\n",
    "https://ngc.nvidia.com/catalog/models/nvidia:quartznet15x5\n",
    "\n",
    "QuarzNet is a Jasper-like network which uses separable convolutions and larger filter sizes. It has comparable accuracy to Jasper while having much fewer parameters. This particular model has 15 blocks each repeated 5 times.\n",
    "\n",
    "QuartzNet15x5 Encoder and Decoder neural module's checkpoints are trained using Neural Modules(NeMo) toolkit. NVIDIA’s Apex/Amp O1 optimization level was used for training on 8xV100 GPUs. These modules were trained using LibriSpeech (+-10% speed perturbation) and Mozilla's EN Common Voice \"validated\" set. "
   ]
  },
  {
   "cell_type": "markdown",
   "metadata": {},
   "source": [
    "# 3.  Build Baseline Language Model\n",
    "Next, we provide the command and required scripts (`build_6-gram_OpenSLR_lm.sh`) to build a baseline language model for any ASR application. This language model uses [Baidu's CTC decoder with LM implementation](https://github.com/PaddlePaddle/DeepSpeech), specifically a **6-gram KenLM model** trained on **LibriSpeech**.\n",
    "\n",
    "**Note**: If you wish to use a language model in your ASR pipeline, you need to install the necessary software. Please refer to the Dockerfile in `/tmp/nemo_asr_app/Dockerfile` and re-build the container."
   ]
  },
  {
   "cell_type": "code",
   "execution_count": 3,
   "metadata": {},
   "outputs": [
    {
     "name": "stdout",
     "output_type": "stream",
     "text": [
      "! cd /home/adrianaf/projects/asr_system/nemo_asr_app/tools/NeMo && ./build_6-gram_OpenSLR_lm.sh /raid/datasets/asr/data/example_data\n"
     ]
    }
   ],
   "source": [
    "cmd = \"! cd \"+ cfg.NEMO.TOOLS + \" && ./build_6-gram_OpenSLR_lm.sh \" + cfg.DATASET.PATHS.EXAMPLE_DATA\n",
    "print(cmd)"
   ]
  },
  {
   "cell_type": "markdown",
   "metadata": {},
   "source": [
    "Copy (select cmd + shift RMB + copy) below the command generated to build the KenLM model. Note, this can take some time, we recommend you run it inside the container's terminal."
   ]
  },
  {
   "cell_type": "code",
   "execution_count": 4,
   "metadata": {},
   "outputs": [
    {
     "name": "stdout",
     "output_type": "stream",
     "text": [
      "Building LM inside /raid/datasets/asr/data/example_data\n",
      "--2019-11-06 00:02:33--  http://www.openslr.org/resources/11/librispeech-lm-norm.txt.gz\n",
      "Resolving www.openslr.org (www.openslr.org)... 46.101.158.64\n",
      "Connecting to www.openslr.org (www.openslr.org)|46.101.158.64|:80... connected.\n",
      "HTTP request sent, awaiting response... 200 OK\n",
      "Length: 1507274412 (1.4G) [application/x-gzip]\n",
      "Saving to: ‘librispeech-lm-norm.txt.gz’\n",
      "\n",
      "librispeech-lm-norm 100%[===================>]   1.40G  5.16MB/s    in 4m 1s   \n",
      "\n",
      "2019-11-06 00:06:35 (5.97 MB/s) - ‘librispeech-lm-norm.txt.gz’ saved [1507274412/1507274412]\n",
      "\n",
      "*********************************************************\n",
      "Unigram tokens 803288729 types 973676\n",
      "=== 2/5 Calculating and sorting adjusted counts ===\n",
      "Chain sizes: 1:11684112 2:13311027200 3:24958175232 4:39933083648 5:58235744256 6:79866167296\n",
      "Statistics:\n",
      "1 973676 D1=0.647192 D2=1.04159 D3+=1.3919\n",
      "2 41161096 D1=0.723617 D2=1.06317 D3+=1.36127\n",
      "3 207278547 D1=0.804357 D2=1.09256 D3+=1.31993\n",
      "4 438095063 D1=0.876863 D2=1.15052 D3+=1.32047\n",
      "5 587120377 D1=0.93329 D2=1.23036 D3+=1.36071\n",
      "6 634027586 D1=0.95229 D2=1.42069 D3+=1.45621\n",
      "Memory estimate for binary LM:\n",
      "type       MB\n",
      "probing 40059 assuming -p 1.5\n",
      "probing 47351 assuming -r models -p 1.5\n",
      "trie    20999 without quantization\n",
      "trie    12124 assuming -q 8 -b 8 quantization \n",
      "trie    17737 assuming -a 22 array pointer compression\n",
      "trie     8863 assuming -a 22 -q 8 -b 8 array pointer compression and quantization\n",
      "=== 3/5 Calculating and sorting initial probabilities ===\n",
      "Chain sizes: 1:11684112 2:658577536 3:4145570940 4:10514281512 5:16439370556 6:20288882752\n",
      "----5---10---15---20---25---30---35---40---45---50---55---60---65---70---75---80---85---90---95--100\n",
      "####################################################################################################\n",
      "=== 4/5 Calculating and writing order-interpolated probabilities ===\n",
      "Chain sizes: 1:11684112 2:658577536 3:4145570940 4:10514281512 5:16439370556 6:20288882752\n",
      "----5---10---15---20---25---30---35---40---45---50---55---60---65---70---75---80---85---90---95--100\n",
      "####################################################################################################\n",
      "=== 5/5 Writing ARPA model ===\n",
      "----5---10---15---20---25---30---35---40---45---50---55---60---65---70---75---80---85---90---95--100\n",
      "****************************************************************************************************\n",
      "Name:lmplz\tVmPeak:211450792 kB\tVmRSS:33688 kB\tRSSMax:54462840 kB\tuser:2268.42\tsys:574.454\tCPU:2842.87\treal:2450.72\n",
      "decoders/kenlm/build/bin/build_binary trie -q 8 -b 7 -a 256 /raid/datasets/asr/data/example_data/language_model/6-gram.arpa /raid/datasets/asr/data/example_data/language_model/6-gram-lm.binary\n",
      "Reading /raid/datasets/asr/data/example_data/language_model/6-gram.arpa\n",
      "----5---10---15---20---25---30---35---40---45---50---55---60---65---70---75---80---85---90---95--100\n",
      "****************************************************************************************************\n",
      "Identifying n-grams omitted by SRI\n",
      "----5---10---15---20---25---30---35---40---45---50---55---60---65---70---75---80---85---90---95--100\n",
      "****************************************************************************************************\n",
      "Quantizing\n",
      "----5---10---15---20---25---30---35---40---45---50---55---60---65---70---75---80---85---90---95--100\n",
      "****************************************************************************************************\n",
      "Writing trie\n",
      "----5---10---15---20---25---30---35---40---45---50---55---60---65---70---75---80---85---90---95--100\n",
      "****************************************************************************************************\n",
      "SUCCESS\n"
     ]
    }
   ],
   "source": [
    "# ! cd /home/adrianaf/projects/asr_system/nemo_asr_app/tools/NeMo && ./build_6-gram_OpenSLR_lm.sh /raid/datasets/asr/data/example_data"
   ]
  },
  {
   "cell_type": "markdown",
   "metadata": {},
   "source": [
    "# 4. WSJ dataset\n",
    "\n",
    "In this example use-case, we fine-tune the pre-trained acoustic and language models with Wall Street Journal news datasets. \n",
    "Through this use case, we show we can easily do transfer learning or domain adaptation from old fiction books (LibriSpeech) to business news (WSJ).\n",
    "\n",
    "This dataset is part of the Linguistic Data Consortium and can be found here:\n",
    "- CSR-I (WSJ0) Complete: https://catalog.ldc.upenn.edu/LDC93S6A\n",
    "- CSR-II (WSJ1) Complete: https://catalog.ldc.upenn.edu/LDC94S13A\n",
    "\n",
    "To use this dataset you must normalize the text, i.e. lowercase text, remove punctuations and change digits to text representation. We provide utility functions in `tools/transcript_tools.py` that can help you with dataset preparation.\n",
    "\n",
    "Note: To  download this dataset a license is required please refer to [LDC to learn more](https://www.ldc.upenn.edu/language-resources/data/obtaining). \n",
    "\n",
    "\n",
    "## WSJ Fine-tuned Model Checkpoints\n",
    "\n",
    "To help you walk through this example use-case, we provide you with the WSJ fine-tuned models for both acoustic and language models. These models can be found in NGC:\n",
    "1. The acoustic model created in Step 1, which finetunes the pre-trained acoustic model with WSJ data, can be downloaded from this [link](https://ngc.nvidia.com/models/nvidia:wsj_quartznet_15x5).\n",
    "2. The language model trained on WSJ in Step 2 can be downloaded from this [link](https://ngc.nvidia.com/models/nvidia:wsj_lm_decoder).\n",
    "\n",
    "When downloading the models, you can save these inside the folders listed below (which are automatically generated when running the Step 1 and Step 2 notebooks): \n",
    "- Acoustic model\n",
    "    - `[data_dir]/models/acoustic_models/WSJ/WSJ_finetuning-lr_0.0001-bs_16-e_100-wd_0.0-opt_novograd/checkpoints/`\n",
    "    - You can also find this finetuned model inside the demo folder: `/tmp/nemo_asr_app/demo/finetuned/`\n",
    "- Language model\n",
    "    - `[data_dir]/models/language_models/`[WS_lm.binary]\n",
    "    \n",
    "Alternatively, if you downloaded the WSJ data or for your own dataset you can follow the instructions below to create NeMo ready datasets.\n",
    "As well, these models can be use directly on your own data to perform inference.\n",
    "\n",
    "## 4.1 Create NeMo ready - Acoustic Model Dataset\n",
    "\n",
    "NeMo requires datasets to be in the format of:\n",
    "- `wav` audio clips with sampling rate (16000) and max clip duration (16.5) specified by the [configuration file](/tools/NeMo/example_configs/quartznet15x5.yaml).\n",
    "- The dataset format as a `json` file where each entry has the keys: `audio_filepath`, `duration` and `text`.\n",
    "\n",
    "You can see the script used to create NeMo datasets from common_voice datasets in `tools/NeMo/create_common_voice_dataset.py`. This script can help you correctly format your audio clips and json training dataset.\n",
    "\n",
    "## 4.2 Create NeMo ready - Language Model Dataset\n",
    "\n",
    "A Language Model (LM) can improve decoder's performance by resolving ambiguities in speech to text transcription, more information on how LM help ASR systems is provided in Step 2.\n",
    "\n",
    "The Language Model dataset has the pre-processed text from the WSJ dataset in a single column, this file is saved as a `.txt` file. You can see the example LibriSpeech LM dataset `example_data/language_model/librispeech-lm-norm.txt` which was used to create the baseline language model. To create the WSJ language model dataset you can use the pre-processed text from the WSJ training dataset and save it as a single column in  a `.txt` file.\n",
    "\n",
    "For this WSJ end-to-end use case we use 3 datasets:\n",
    "1. `wsj-train-si284-speed-0.9-1.1.json` for acoustic model training (Note: Audio speed perturbation helps build better models)\n",
    "2. `wsj-eval-92.json` or `wsj-dev-93.json` for model evaluation\n",
    "3. `wsj-lm-data.txt` for language model training\n",
    "\n",
    "You can use the commands below to check and correct the paths to the audio files inside the acoustic datasets."
   ]
  },
  {
   "cell_type": "code",
   "execution_count": 4,
   "metadata": {},
   "outputs": [],
   "source": [
    "#!head -n1 /raid/datasets/asr/data/example_data/wsj/wsj-dev-93.json"
   ]
  },
  {
   "cell_type": "code",
   "execution_count": 5,
   "metadata": {},
   "outputs": [],
   "source": [
    "# Now replace this path with the correct path inside the container:\n",
    "#!sed -i 's,/data,/raid/datasets/asr/data/example_data,g' /raid/datasets/asr/data/example_data/wsj/wsj-dev-93.json"
   ]
  },
  {
   "cell_type": "code",
   "execution_count": 6,
   "metadata": {},
   "outputs": [],
   "source": [
    "# confirm change\n",
    "#!head -n1 /raid/datasets/asr/data/example_data/wsj/wsj-dev-93.json"
   ]
  },
  {
   "cell_type": "markdown",
   "metadata": {},
   "source": [
    "At this point you have downloaded and pre-process the necessary models and datasets to walk through our example use-case.\n",
    "\n",
    "Your `example_data` folder now contains 2 sub-folders: 1) `wsj` with finetuning data and 2) `language_model` with baseline LM model and datasets."
   ]
  },
  {
   "cell_type": "code",
   "execution_count": null,
   "metadata": {},
   "outputs": [],
   "source": []
  }
 ],
 "metadata": {
  "kernelspec": {
   "display_name": "Python 3",
   "language": "python",
   "name": "python3"
  },
  "language_info": {
   "codemirror_mode": {
    "name": "ipython",
    "version": 3
   },
   "file_extension": ".py",
   "mimetype": "text/x-python",
   "name": "python",
   "nbconvert_exporter": "python",
   "pygments_lexer": "ipython3",
   "version": "3.6.9"
  }
 },
 "nbformat": 4,
 "nbformat_minor": 4
}
